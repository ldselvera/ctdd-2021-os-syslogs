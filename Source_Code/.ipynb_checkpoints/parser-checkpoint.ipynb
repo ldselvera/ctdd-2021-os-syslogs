{
 "cells": [
  {
   "cell_type": "code",
   "execution_count": 1,
   "metadata": {},
   "outputs": [
    {
     "data": {
      "text/plain": [
       "<module 'preprocess' from '/mnt/data/tad/preprocess.py'>"
      ]
     },
     "execution_count": 1,
     "metadata": {},
     "output_type": "execute_result"
    }
   ],
   "source": [
    "import importlib\n",
    "import pandas as pd\n",
    "import preprocess as ad\n",
    "\n",
    "importlib.reload(ad)"
   ]
  },
  {
   "cell_type": "raw",
   "metadata": {},
   "source": [
    "#Parse from file\n",
    "log_file  = 'linux.log'\n",
    "log_source  = 'Linux'\n",
    "algorithm = 'Spell'\n",
    "ad.parse(log_source, log_file, algorithm)"
   ]
  },
  {
   "cell_type": "markdown",
   "metadata": {},
   "source": [
    "### Convert log template to log keys\n",
    "### Just change filename (i.e. ransomware-001) to machine of interest"
   ]
  },
  {
   "cell_type": "code",
   "execution_count": 10,
   "metadata": {},
   "outputs": [],
   "source": [
    "def linux_file_generator(log_source, filename, df):\n",
    "    filename = \"abnormal\" + log_source.lower() + \"_\" + filename\n",
    "    \n",
    "    with open(\"Dataset/\" + log_source + \"/\" + filename, 'w') as f:\n",
    "        for event_id in df['Log Key']:\n",
    "            f.write(str(event_id) + ' ')\n",
    "        f.write('\\n') "
   ]
  },
  {
   "cell_type": "code",
   "execution_count": 3,
   "metadata": {},
   "outputs": [],
   "source": [
    "def linux_seq(df_log):\n",
    "\n",
    "    df_log.Month = pd.to_datetime(df_log.Month, format='%b').dt.month\n",
    "    df_log['Date'] = df_log['Date'].astype(str)\n",
    "    df_log['Month'] = df_log['Month'].astype(str)    \n",
    "    \n",
    "    searchfor = ['jy|bt|mw']\n",
    "\n",
    "    norm = df_log[~df_log.Level.str.contains('|'.join(searchfor), regex=True)]\n",
    "    abnorm = df_log[df_log.Level.str.contains('|'.join(searchfor), regex=True)]\n",
    "    \n",
    "    time_seq = '1min'\n",
    "    # time_seq = '30S'\n",
    "    # time_seq = '10min'\n",
    "    \n",
    "    normal = linux_time(norm, time_seq)\n",
    "    linux_file_generator(\"Linux\", 'normal_'+time_seq, normal)\n",
    "    \n",
    "    abnormal = linux_time(abnorm, time_seq)\n",
    "    linux_file_generator(\"Linux\", 'abnormal_'+time_seq, abnormal)    \n",
    "    \n",
    "    return\n"
   ]
  },
  {
   "cell_type": "code",
   "execution_count": 4,
   "metadata": {},
   "outputs": [],
   "source": [
    "def linux_time(df, time_seq):\n",
    "    df['datetime'] = pd.to_datetime('2020' + \"-\" + df['Month'] + \"-\" + df['Date'] + \" \" + df['Time'])\n",
    "    df = df[['datetime', 'Log Key']]\n",
    "    deeplog_df = df.set_index('datetime').resample(time_seq).apply(_custom_resampler).reset_index()\n",
    "    return deeplog_df\n",
    "\n",
    "def _custom_resampler(array_like):\n",
    "    return list(array_like)            "
   ]
  },
  {
   "cell_type": "code",
   "execution_count": 41,
   "metadata": {},
   "outputs": [],
   "source": [
    "df = pd.read_csv(\"Spell_result/\" + 'linux.log_structured.csv')\n",
    "\n",
    "# filename = 'ransomware-001'\n",
    "filename = \"mw-virus-003\"\n",
    "searchfor = [filename]\n",
    "\n",
    "#get logs from machine of interest\n",
    "df_mw = df[df.Level.str.contains('|'.join(searchfor), regex=True)]"
   ]
  },
  {
   "cell_type": "code",
   "execution_count": 42,
   "metadata": {},
   "outputs": [],
   "source": [
    "#use this to create sequences according to time\n",
    "#args: log_source, filename, dataframe containing  logs df_mw\n",
    "linux_file_generator(\"Linux\", filename, df_mw)"
   ]
  },
  {
   "cell_type": "markdown",
   "metadata": {},
   "source": [
    "### Split data for federated learning"
   ]
  },
  {
   "cell_type": "code",
   "execution_count": null,
   "metadata": {},
   "outputs": [],
   "source": [
    "ad.federated_split(\"linux_train\", \"Linux\", 10)"
   ]
  },
  {
   "cell_type": "code",
   "execution_count": null,
   "metadata": {},
   "outputs": [],
   "source": []
  }
 ],
 "metadata": {
  "kernelspec": {
   "display_name": "Python 3",
   "language": "python",
   "name": "python3"
  },
  "language_info": {
   "codemirror_mode": {
    "name": "ipython",
    "version": 3
   },
   "file_extension": ".py",
   "mimetype": "text/x-python",
   "name": "python",
   "nbconvert_exporter": "python",
   "pygments_lexer": "ipython3",
   "version": "3.6.9"
  }
 },
 "nbformat": 4,
 "nbformat_minor": 4
}
