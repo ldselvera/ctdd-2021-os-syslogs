{
 "cells": [
  {
   "cell_type": "markdown",
   "metadata": {},
   "source": [
    "# Forensic Investigation Figures"
   ]
  },
  {
   "cell_type": "code",
   "execution_count": 1,
   "metadata": {},
   "outputs": [
    {
     "name": "stdout",
     "output_type": "stream",
     "text": [
      "cuda\n"
     ]
    }
   ],
   "source": [
    "import torch\n",
    "import torch.nn as nn\n",
    "import torch.nn.functional as F\n",
    "from torch.autograd import Variable\n",
    "import numpy as np\n",
    "import importlib\n",
    "import pandas as pd\n",
    "import seaborn\n",
    "from IPython.display import Image\n",
    "import matplotlib.pyplot as plt\n",
    "from matplotlib import cm\n",
    "\n",
    "import Transformer as tnsf\n",
    "import preprocess as ad\n",
    "\n",
    "import sys\n",
    "import copy\n",
    "from matplotlib.colors import LogNorm\n",
    "np.set_printoptions(threshold=sys.maxsize)\n",
    "\n",
    "importlib.reload(ad)\n",
    "importlib.reload(tnsf)\n",
    "\n",
    "device = torch.device(\"cuda\" if torch.cuda.is_available() else \"cpu\")\n",
    "#device = \"cuda\"\n",
    "print(device)"
   ]
  },
  {
   "cell_type": "markdown",
   "metadata": {},
   "source": [
    "## Seaborn definitions for heatmap"
   ]
  },
  {
   "cell_type": "code",
   "execution_count": 2,
   "metadata": {},
   "outputs": [],
   "source": [
    "def draw(data, x, y, ax, cbar, tight=True):\n",
    "    seaborn.set(font_scale=1.3)\n",
    "    #cmap = seaborn.cubehelix_palette(start=0.11, dark=0, rot=0.4, light=1, as_cmap=True)\n",
    "    #cmap = seaborn.cubehelix_palette(start=1, dark=0.4, rot=0, light=1, as_cmap=True)\n",
    "    cmap = seaborn.dark_palette(\"#ff0000\", n_colors=10, reverse=True, as_cmap=True)\n",
    "    mask = np.zeros_like(data, dtype=np.bool)\n",
    "    \n",
    "    if tight == True:\n",
    "        # Get indices where ROWS are all zeros\n",
    "        row_thicks = np.where(~np.all(data == 0, axis=1))\n",
    "        ###print(\"Row Thicks\",row_thicks)\n",
    "        # Rows Delete\n",
    "        data = data[~np.all(data == 0, axis=1)]\n",
    "    \n",
    "        # Get indices where COLUMNS are all zeros\n",
    "        col_thicks = np.where(data.any(axis=0))[0]\n",
    "        # Columns Delete\n",
    "        data= np.delete(data,np.where(~data.any(axis=0))[0], axis=1)\n",
    "        ###print(\"Col Thicks\",col_thicks)\n",
    "    \n",
    "        col_thicks = list(col_thicks)\n",
    "        row_thicks = list(row_thicks[0])\n",
    "        \n",
    "    else:\n",
    "        col_thicks = range(0,data.shape[1])\n",
    "        row_thicks = range(0,data.shape[0])\n",
    "        numOfRows = data.shape[0] # length for Y\n",
    "        numOfColumns = data.shape[1] #Length for X\n",
    "        ###print(\"Row Thicks\",row_thicks)\n",
    "        ###print(\"Col Thicks\",col_thicks)\n",
    "    \n",
    "    \n",
    "    # Generate mask to change zero elements to white\n",
    "    mask = (data == 0)\n",
    "    print(\"New Heatmap Shape\")\n",
    "    print(data.shape)\n",
    "    \n",
    "\n",
    "#     seaborn.heatmap(data, xticklabels=28, square=True, yticklabels=28, vmin=0.0, vmax=1.0, cbar=cbar, cbar_ax = cbar_ax, ax=ax, cmap=cmap)\n",
    "    with seaborn.axes_style(\"white\"):\n",
    "        seaborn.heatmap(data, xticklabels=col_thicks, square=True, yticklabels=row_thicks, vmin=0.00001, vmax=1.0, cbar=cbar, ax=ax, cmap=cmap, mask=mask) #norm=LogNorm()\n",
    "        #seaborn.heatmap(data, xticklabels=x, square=True, yticklabels=y, vmin=0.001, vmax=1.0, cbar=cbar, ax=ax, cmap=cmap, norm=LogNorm(), mask=mask) #norm=LogNorm()\n",
    "    \n",
    "    "
   ]
  },
  {
   "cell_type": "markdown",
   "metadata": {},
   "source": [
    "## Reduce 2d array dimensionality"
   ]
  },
  {
   "cell_type": "code",
   "execution_count": 3,
   "metadata": {},
   "outputs": [],
   "source": [
    "def matrix_reduce(data):\n",
    "    # Get indices where ROWS are all zeros\n",
    "    row_thicks = np.where(~np.all(data == 0, axis=1))\n",
    "    # Rows Delete\n",
    "    data = data[~np.all(data == 0, axis=1)]\n",
    "\n",
    "    # Get indices where COLUMNS are all zeros\n",
    "    col_thicks = np.where(data.any(axis=0))[0]\n",
    "    # Columns Delete\n",
    "    data= np.delete(data,np.where(~data.any(axis=0))[0], axis=1)\n",
    "\n",
    "    col_thicks = list(col_thicks)\n",
    "    row_thicks = list(row_thicks[0])\n",
    "\n",
    "    print(\"New Heatmap Shape\")\n",
    "    print(data.shape)\n",
    "    return data, row_thicks, col_thicks"
   ]
  },
  {
   "cell_type": "markdown",
   "metadata": {},
   "source": [
    "## Attention scaler"
   ]
  },
  {
   "cell_type": "code",
   "execution_count": 4,
   "metadata": {},
   "outputs": [],
   "source": [
    "# The following function scales the attention matrix\n",
    "# This provides a better heatmap visualization\n",
    "def scale_attention(attention_matrix):\n",
    "    # Copy original attention\n",
    "    attention_v2 = copy.deepcopy(attention_matrix)\n",
    "\n",
    "    # Add 10 to eliminate negative number of log\n",
    "    attention_v2[attention_v2!=0] += 10\n",
    "    # Log Acale Attention Matrix\n",
    "    attention_log = np.log10(attention_v2)\n",
    "    # Substract 1 to bring smaller values closer to 0\n",
    "    attention_log[attention_log!=0] -= 1\n",
    "    # Set -Inf (Produced by Log Zero) to 0\n",
    "    attention_log[np.isneginf(attention_log)]=0\n",
    "    # Normalize Log Values\n",
    "    attention_log_normalized =(attention_log-np.min(attention_log))/(np.max(attention_log)-np.min(attention_log))\n",
    "    \n",
    "#     if attention_log_normalized.ndim == 1:\n",
    "        \n",
    "#         #Returns a tuple of (nonzero_row_index, nonzero_col_index)\n",
    "#         nonzero = np.nonzero(attention_log_normalized)\n",
    "#         nonzero_elements = nonzero[0]\n",
    "\n",
    "#         for element in nonzero_elements:\n",
    "#             print(\"Attention[{}] = {}\".format(element, attention_log_normalized[element]))\n",
    "            \n",
    "#     elif attention_log_normalized.ndim == 2:\n",
    "                \n",
    "#         #Returns a tuple of (nonzero_row_index, nonzero_col_index)\n",
    "#         nonzero = np.nonzero(attention_log_normalized)\n",
    "#         nonzero_row = nonzero[0]\n",
    "#         nonzero_col = nonzero[1]\n",
    "\n",
    "#         for row, col in zip(nonzero_row, nonzero_col):\n",
    "#             print(\"A[{}, {}] = {}\".format(row, col, attention_log_normalized[row, col]))        \n",
    "        \n",
    "#     else:\n",
    "#         print(\"Undefined Dimension\")\n",
    "            \n",
    "    return attention_log_normalized"
   ]
  },
  {
   "cell_type": "code",
   "execution_count": null,
   "metadata": {},
   "outputs": [],
   "source": [
    "# Python Program to find GCD of Two Numbers\n",
    "\n",
    "def findgcd(a, b):\n",
    "    if(b == 0):\n",
    "        return a;\n",
    "    else:\n",
    "        return findgcd(b, a % b)\n",
    "    \n",
    "# num1 = 168\n",
    "# num2 = 48\n",
    "\n",
    "# gcd = findgcd(num1, num2)\n",
    "# print(\"\\n GCD of {0} and {1} = {2}\".format(num1, num2, gcd))"
   ]
  },
  {
   "cell_type": "markdown",
   "metadata": {},
   "source": [
    "# Federated Normal and Abnormal"
   ]
  },
  {
   "cell_type": "code",
   "execution_count": null,
   "metadata": {},
   "outputs": [],
   "source": [
    "with open('decoder_attentions/tn_Linux_Normal_attention.npy', 'rb') as f:\n",
    "    attention_matrix_1 = np.load(f)\n",
    "attention_matrix_1.shape\n",
    "\n",
    "with open('decoder_attentions/tp_Linux_Abnormal_attention.npy', 'rb') as f:\n",
    "    attention_matrix_2 = np.load(f)\n",
    "attention_matrix_2.shape"
   ]
  },
  {
   "cell_type": "code",
   "execution_count": null,
   "metadata": {},
   "outputs": [],
   "source": [
    "# Delete all zero elements in 2d attention array\n",
    "attention_matrix_1_rd, rows_1, cols_1 = matrix_reduce(attention_matrix_1)\n",
    "attention_matrix_2_rd, rows_2, cols_2 = matrix_reduce(attention_matrix_2)\n",
    "\n",
    "# Sum attention over the input keys and scale it.\n",
    "attention_matrix_1_sum = scale_attention(attention_matrix_1_rd.sum(axis=0))\n",
    "attention_matrix_2_sum = scale_attention(attention_matrix_2_rd.sum(axis=0))"
   ]
  },
  {
   "cell_type": "markdown",
   "metadata": {},
   "source": [
    "## Heatmap"
   ]
  },
  {
   "cell_type": "code",
   "execution_count": null,
   "metadata": {},
   "outputs": [],
   "source": [
    "fig, axs = plt.subplots(1,2, figsize=(10, 5))\n",
    "\n",
    "# Attention Heatmaps\n",
    "\n",
    "# Aggregated Attention by Log Key (Input Sequences)\n",
    "draw(scale_attention(attention_matrix_1), range(0,449), range(0,449), ax=axs[0], cbar=False)\n",
    "axs[0].set_xlabel(\"Log Keys from Input Sequences\", fontsize=14)\n",
    "axs[0].set_ylabel(\"Label\", fontsize=14)\n",
    "axs[0].set_title(\"Federated Model\\nAttention of Normal Operation\", fontsize=14)\n",
    "axs[0].invert_yaxis()\n",
    "\n",
    "draw(scale_attention(attention_matrix_2), range(0,449), range(0,449), ax=axs[1], cbar=True)\n",
    "axs[1].set_xlabel(\"Log Keys from Input Sequences\", fontsize=14)\n",
    "axs[1].set_ylabel(\"Label\", fontsize=14)\n",
    "axs[1].set_title(\"Federated Model\\nAttention of Cyber Threats\", fontsize=14)\n",
    "axs[1].invert_yaxis()\n",
    "\n",
    "axs[0].set_aspect('auto')\n",
    "axs[1].set_aspect('auto')\n",
    "axs[0].locator_params(nbins=16, axis='x')\n",
    "axs[1].locator_params(nbins=16, axis='x')\n",
    "axs[0].locator_params(nbins=16, axis='y')\n",
    "axs[1].locator_params(nbins=16, axis='y')\n",
    "#plt.tight_layout()\n",
    "\n",
    "plt.savefig('figures/federated_normal_and_cyber_threats_heatmap_v1.png')\n",
    "plt.show()"
   ]
  },
  {
   "cell_type": "markdown",
   "metadata": {},
   "source": [
    "## Heatmap - Single"
   ]
  },
  {
   "cell_type": "code",
   "execution_count": null,
   "metadata": {},
   "outputs": [],
   "source": [
    "fig, axs = plt.subplots(1,1, figsize=(5, 5))\n",
    "\n",
    "# Attention Heatmaps\n",
    "\n",
    "# Aggregated Attention by Log Key (Input Sequences)\n",
    "draw(scale_attention(attention_matrix_1), range(0,449), range(0,449), ax=axs, cbar=True)\n",
    "#axs.set_xlabel(\"Log Keys from Input Sequences\", fontsize=14)\n",
    "#axs.set_ylabel(\"Label\", fontsize=14)\n",
    "#axs.set_title(\"Federated Model\\nAttention of Normal Operation\", fontsize=14)\n",
    "axs.invert_yaxis()\n",
    "\n",
    "axs.set_aspect('auto')\n",
    "axs.locator_params(nbins=16, axis='x')\n",
    "axs.locator_params(nbins=16, axis='y')\n",
    "#plt.tight_layout()\n",
    "\n",
    "plt.savefig('figures/single_federated_normal_and_cyber_threats_heatmap_v1.png')\n",
    "plt.show()"
   ]
  },
  {
   "cell_type": "markdown",
   "metadata": {},
   "source": [
    "## 3D Plot"
   ]
  },
  {
   "cell_type": "code",
   "execution_count": null,
   "metadata": {},
   "outputs": [],
   "source": [
    "#fig, ax = plt.subplots(nrows=1, ncols=2, subplot_kw=dict(projection='3d'),figsize=plt.figaspect(3/6))\n",
    "fig, ax = plt.subplots(nrows=1, ncols=2, subplot_kw=dict(projection='3d'),figsize=(15,7))\n",
    "\n",
    "# plot a 3D surface like in the example mplot3d/surface3d_demo\n",
    "X = range(0,449)\n",
    "Y = range(0,449)\n",
    "X, Y = np.meshgrid(X, Y)\n",
    "\n",
    "ax[0].invert_yaxis()\n",
    "ax[1].invert_yaxis()\n",
    "\n",
    "ax[0].set_zlim(0, 1)\n",
    "ax[1].set_zlim(0, 1)\n",
    "# Aggregated Attention by Log Key (Input Sequences)\n",
    "Z = scale_attention(attention_matrix_1)\n",
    "surf = ax[0].plot_surface(X, Y, Z, rstride=1, cstride=1, cmap=cm.coolwarm,\n",
    "                       linewidth=0, antialiased=False,vmin=0)\n",
    "\n",
    "Z = scale_attention(attention_matrix_2)\n",
    "surf = ax[1].plot_surface(X, Y, Z, rstride=1, cstride=1, cmap=cm.coolwarm,\n",
    "                       linewidth=0, antialiased=False,vmin=0)\n",
    "\n",
    "ax[0].set(title=\"Federated Model\\nAttention of Normal Operation\")\n",
    "ax[1].set(title=\"Federated Model\\nAttention of Cyber Threats\")\n",
    "\n",
    "ax[0].set_xlabel(\"Log Keys from Input Sequences\")\n",
    "ax[0].set_ylabel(\"Label\")\n",
    "\n",
    "ax[1].set_xlabel(\"Log Keys from Input Sequences\")\n",
    "ax[1].set_ylabel(\"Label\")\n",
    "\n",
    "fig.colorbar(surf, ax=ax, shrink=0.5, aspect=10)\n",
    "\n",
    "plt.savefig('figures/federated_normal_and_cyber_threats_3d_v1.png')\n",
    "plt.show()"
   ]
  },
  {
   "cell_type": "markdown",
   "metadata": {},
   "source": [
    "## Added Attention"
   ]
  },
  {
   "cell_type": "code",
   "execution_count": null,
   "metadata": {},
   "outputs": [],
   "source": [
    "fig, axs = plt.subplots(1,2, figsize=(10, 5))\n",
    "\n",
    "# Log Key Frequency\n",
    "axs[0].set_xlabel(\"Log Keys from Input Sequences\", fontsize=14)\n",
    "axs[0].set_ylabel(\"Attention\", fontsize=14)\n",
    "axs[0].set_title(\"Federated Model\\nAttention of Normal Operation\", fontsize=14)\n",
    "axs[0].bar(range(0,attention_matrix_1_sum.shape[0]), attention_matrix_1_sum, color = \"blue\")\n",
    "axs[0].set_xticks(range(0,attention_matrix_1_sum.shape[0]))\n",
    "axs[0].set_xlim([-0.5, attention_matrix_1_sum.shape[0]])\n",
    "axs[0].set_xticklabels(cols_1, fontsize=9, rotation= 90)\n",
    "\n",
    "axs[1].set_xlabel(\"Log Keys from Input Sequences\", fontsize=14)\n",
    "axs[1].set_ylabel(\"Attention\", fontsize=14)\n",
    "axs[1].set_title(\"Federated Model\\nAttention of Cyber Threats\", fontsize=14)\n",
    "axs[1].bar(range(0,attention_matrix_2_sum.shape[0]), attention_matrix_2_sum, color = \"blue\")\n",
    "axs[1].set_xticks(range(0,attention_matrix_2_sum.shape[0]))\n",
    "axs[1].set_xlim([-0.5, attention_matrix_2_sum.shape[0]])\n",
    "axs[1].set_xticklabels(cols_2, fontsize=9, rotation= 90)\n",
    "\n",
    "axs[0].set_ylim([0, 1])\n",
    "axs[1].set_ylim([0, 1])\n",
    "\n",
    "axs[0].locator_params(nbins=25, axis='x')\n",
    "axs[1].locator_params(nbins=25, axis='x')\n",
    "\n",
    "plt.setp(axs[0], xlabel=\"Log Keys from Input Sequences\")\n",
    "plt.setp(axs[1], xlabel=\"Log Keys from Input Sequences\")\n",
    "#plt.tight_layout()\n",
    "\n",
    "plt.savefig('figures/federated_normal_and_cyber_threats_bar_v1.png')\n",
    "plt.show()"
   ]
  },
  {
   "cell_type": "markdown",
   "metadata": {},
   "source": [
    "# Local Client 1 vs Local Client 2 Normal"
   ]
  },
  {
   "cell_type": "code",
   "execution_count": null,
   "metadata": {},
   "outputs": [],
   "source": [
    "with open('decoder_attentions/tn_Linux_Client1_Normal_attention.npy', 'rb') as f:\n",
    "    attention_matrix_3 = np.load(f)\n",
    "attention_matrix_3.shape\n",
    "\n",
    "with open('decoder_attentions/tn_Linux_Client2_Normal_attention.npy', 'rb') as f:\n",
    "    attention_matrix_4 = np.load(f)\n",
    "attention_matrix_4.shape"
   ]
  },
  {
   "cell_type": "code",
   "execution_count": null,
   "metadata": {},
   "outputs": [],
   "source": [
    "# Delete all zero elements in 2d attention array\n",
    "attention_matrix_3_rd, rows_3, cols_3 = matrix_reduce(attention_matrix_3)\n",
    "attention_matrix_4_rd, rows_4, cols_4 = matrix_reduce(attention_matrix_4)\n",
    "\n",
    "# Sum attention over the input keys and scale it.\n",
    "attention_matrix_3_sum = scale_attention(attention_matrix_3_rd.sum(axis=0))\n",
    "attention_matrix_4_sum = scale_attention(attention_matrix_4_rd.sum(axis=0))"
   ]
  },
  {
   "cell_type": "markdown",
   "metadata": {},
   "source": [
    "## Heatmap"
   ]
  },
  {
   "cell_type": "code",
   "execution_count": null,
   "metadata": {},
   "outputs": [],
   "source": [
    "fig, axs = plt.subplots(1,2, figsize=(10, 5))\n",
    "\n",
    "# Attention Heatmaps\n",
    "\n",
    "# Aggregated Attention by Log Key (Input Sequences)\n",
    "draw(scale_attention(attention_matrix_3), range(0,449), range(0,449), ax=axs[0], cbar=False)\n",
    "axs[0].set_xlabel(\"Log Keys from Input Sequences\", fontsize=14)\n",
    "axs[0].set_ylabel(\"Label\", fontsize=14)\n",
    "axs[0].set_title(\"Client 1\\nAttention of Normal Operation\", fontsize=14)\n",
    "axs[0].invert_yaxis()\n",
    "\n",
    "draw(scale_attention(attention_matrix_4), range(0,449), range(0,449), ax=axs[1], cbar=True)\n",
    "axs[1].set_xlabel(\"Log Keys from Input Sequences\", fontsize=14)\n",
    "axs[1].set_ylabel(\"Label\", fontsize=14)\n",
    "axs[1].set_title(\"Client 2\\nAttention of Normal Operation\", fontsize=14)\n",
    "axs[1].invert_yaxis()\n",
    "\n",
    "axs[0].set_aspect('auto')\n",
    "axs[1].set_aspect('auto')\n",
    "axs[0].locator_params(nbins=16, axis='x')\n",
    "axs[1].locator_params(nbins=16, axis='x')\n",
    "axs[0].locator_params(nbins=16, axis='y')\n",
    "axs[1].locator_params(nbins=16, axis='y')\n",
    "#plt.tight_layout()\n",
    "\n",
    "plt.savefig('figures/local_2_clients_heatmap.png')\n",
    "plt.show()"
   ]
  },
  {
   "cell_type": "markdown",
   "metadata": {},
   "source": [
    "## Heatmap - Single"
   ]
  },
  {
   "cell_type": "code",
   "execution_count": null,
   "metadata": {},
   "outputs": [],
   "source": [
    "fig, axs = plt.subplots(1,1, figsize=(5, 5))\n",
    "\n",
    "# Attention Heatmaps\n",
    "\n",
    "# Aggregated Attention by Log Key (Input Sequences)\n",
    "draw(scale_attention(attention_matrix_4), range(0,449), range(0,449), ax=axs, cbar=True)\n",
    "#axs.set_xlabel(\"Log Keys from Input Sequences\", fontsize=14)\n",
    "#axs.set_ylabel(\"Label\", fontsize=14)\n",
    "#axs.set_title(\"Federated Model\\nAttention of Normal Operation\", fontsize=14)\n",
    "axs.invert_yaxis()\n",
    "\n",
    "axs.set_aspect('auto')\n",
    "axs.locator_params(nbins=16, axis='x')\n",
    "axs.locator_params(nbins=16, axis='y')\n",
    "#plt.tight_layout()\n",
    "\n",
    "plt.savefig('figures/single_client2_heatmap.png')\n",
    "plt.show()"
   ]
  },
  {
   "cell_type": "markdown",
   "metadata": {},
   "source": [
    "## 3D Plot"
   ]
  },
  {
   "cell_type": "code",
   "execution_count": null,
   "metadata": {},
   "outputs": [],
   "source": [
    "#fig, ax = plt.subplots(nrows=1, ncols=2, subplot_kw=dict(projection='3d'),figsize=plt.figaspect(3/6))\n",
    "fig, ax = plt.subplots(nrows=1, ncols=2, subplot_kw=dict(projection='3d'),figsize=(15,7))\n",
    "\n",
    "# plot a 3D surface like in the example mplot3d/surface3d_demo\n",
    "X = range(0,449)\n",
    "Y = range(0,449)\n",
    "X, Y = np.meshgrid(X, Y)\n",
    "ax[0].invert_yaxis()\n",
    "ax[1].invert_yaxis()\n",
    "ax[0].set_zlim(0, 1)\n",
    "ax[1].set_zlim(0, 1)\n",
    "# Aggregated Attention by Log Key (Input Sequences)\n",
    "Z = scale_attention(attention_matrix_3)\n",
    "surf = ax[0].plot_surface(X, Y, Z, rstride=1, cstride=1, cmap=cm.coolwarm,\n",
    "                       linewidth=0, antialiased=False,vmin=0)\n",
    "\n",
    "Z = scale_attention(attention_matrix_4)\n",
    "surf = ax[1].plot_surface(X, Y, Z, rstride=1, cstride=1, cmap=cm.coolwarm,\n",
    "                       linewidth=0, antialiased=False,vmin=0)\n",
    "\n",
    "ax[0].set(title=\"Client 1\\nAttention of Normal Operation\")\n",
    "ax[1].set(title=\"Client 2\\nAttention of Normal Operation\")\n",
    "\n",
    "ax[0].set_xlabel(\"Log Keys from Input Sequences\")\n",
    "ax[0].set_ylabel(\"Label\")\n",
    "\n",
    "ax[1].set_xlabel(\"Log Keys from Input Sequences\")\n",
    "ax[1].set_ylabel(\"Label\")\n",
    "\n",
    "fig.colorbar(surf, ax=ax, shrink=0.5, aspect=10)\n",
    "\n",
    "plt.savefig('figures/local_2_clients_3d.png')\n",
    "plt.show()"
   ]
  },
  {
   "cell_type": "markdown",
   "metadata": {},
   "source": [
    "## Added Attention"
   ]
  },
  {
   "cell_type": "code",
   "execution_count": null,
   "metadata": {},
   "outputs": [],
   "source": [
    "fig, axs = plt.subplots(1,2, figsize=(10, 5))\n",
    "\n",
    "# Log Key Frequency\n",
    "axs[0].set_xlabel(\"Log Keys from Input Sequences\", fontsize=14)\n",
    "axs[0].set_ylabel(\"Attention\", fontsize=14)\n",
    "axs[0].set_title(\"Client 1\\nAttention of Normal Operation\", fontsize=14)\n",
    "axs[0].bar(range(0,attention_matrix_3_sum.shape[0]), attention_matrix_3_sum, color = \"blue\")\n",
    "axs[0].set_xticks(range(0,attention_matrix_3_sum.shape[0]))\n",
    "axs[0].set_xlim([-0.5, attention_matrix_3_sum.shape[0]])\n",
    "axs[0].set_xticklabels(cols_3, fontsize=9, rotation= 90)\n",
    "\n",
    "axs[1].set_xlabel(\"Log Keys from Input Sequences\", fontsize=14)\n",
    "axs[1].set_ylabel(\"Attention\", fontsize=14)\n",
    "axs[1].set_title(\"Client 2\\nAttention of Normal Operation\", fontsize=14)\n",
    "axs[1].bar(range(0,attention_matrix_4_sum.shape[0]), attention_matrix_4_sum, color = \"blue\")\n",
    "axs[1].set_xticks(range(0,attention_matrix_4_sum.shape[0]))\n",
    "axs[1].set_xlim([-0.5, attention_matrix_4_sum.shape[0]])\n",
    "axs[1].set_xticklabels(cols_4, fontsize=9, rotation= 90)\n",
    "\n",
    "axs[0].set_ylim([0, 1])\n",
    "axs[1].set_ylim([0, 1])\n",
    "\n",
    "axs[0].locator_params(nbins=25, axis='x')\n",
    "axs[1].locator_params(nbins=25, axis='x')\n",
    "\n",
    "plt.setp(axs[0], xlabel=\"Log Keys from Input Sequences\")\n",
    "plt.setp(axs[1], xlabel=\"Log Keys from Input Sequences\")\n",
    "#plt.tight_layout()\n",
    "\n",
    "plt.savefig('figures/local_2_clients_bar.png')\n",
    "plt.show()"
   ]
  },
  {
   "cell_type": "markdown",
   "metadata": {},
   "source": [
    "# Federated (Client 1 + Client 2) Normal vs Federated Abnormal"
   ]
  },
  {
   "cell_type": "code",
   "execution_count": null,
   "metadata": {},
   "outputs": [],
   "source": [
    "# Generate federated attention by adding attention weights from clients 1 and 2\n",
    "federated_normal = np.add(attention_matrix_3,attention_matrix_4)\n",
    "\n",
    "# Delete all zero elements in 2d attention array\n",
    "federated_normal_rd, rows_fed_norm, cols_fed_norm = matrix_reduce(federated_normal)\n",
    "\n",
    "# Sum attention over the input keys and scale it.\n",
    "federated_normal_sum = scale_attention(federated_normal_rd.sum(axis=0))"
   ]
  },
  {
   "cell_type": "markdown",
   "metadata": {},
   "source": [
    "## Heatmap"
   ]
  },
  {
   "cell_type": "code",
   "execution_count": null,
   "metadata": {},
   "outputs": [],
   "source": [
    "fig, axs = plt.subplots(1,2, figsize=(10, 5))\n",
    "\n",
    "# Attention Heatmaps\n",
    "\n",
    "# Aggregated Attention by Log Key (Input Sequences)\n",
    "draw(scale_attention(federated_normal), range(0,449), range(0,449), ax=axs[0], cbar=False)\n",
    "axs[0].set_xlabel(\"Log Keys from Input Sequences\", fontsize=14)\n",
    "axs[0].set_ylabel(\"Label\", fontsize=14)\n",
    "axs[0].set_title(\"Federated Model\\nAttention of Normal Operation\", fontsize=14)\n",
    "axs[0].invert_yaxis()\n",
    "\n",
    "draw(scale_attention(attention_matrix_2), range(0,449), range(0,449), ax=axs[1], cbar=True)\n",
    "axs[1].set_xlabel(\"Log Keys from Input Sequences\", fontsize=14)\n",
    "axs[1].set_ylabel(\"Label\", fontsize=14)\n",
    "axs[1].set_title(\"Federated Model\\nAttention of Cyber Threats\", fontsize=14)\n",
    "axs[1].invert_yaxis()\n",
    "\n",
    "axs[0].set_aspect('auto')\n",
    "axs[1].set_aspect('auto')\n",
    "axs[0].locator_params(nbins=16, axis='x')\n",
    "axs[1].locator_params(nbins=16, axis='x')\n",
    "axs[0].locator_params(nbins=16, axis='y')\n",
    "axs[1].locator_params(nbins=16, axis='y')\n",
    "#plt.tight_layout()\n",
    "\n",
    "plt.savefig('figures/federated_normal_and_cyber_threats_heatmap_v2.png')\n",
    "plt.show()"
   ]
  },
  {
   "cell_type": "markdown",
   "metadata": {},
   "source": [
    "## 3D Plot"
   ]
  },
  {
   "cell_type": "code",
   "execution_count": null,
   "metadata": {},
   "outputs": [],
   "source": [
    "#fig, ax = plt.subplots(nrows=1, ncols=2, subplot_kw=dict(projection='3d'),figsize=plt.figaspect(3/6))\n",
    "fig, ax = plt.subplots(nrows=1, ncols=2, subplot_kw=dict(projection='3d'),figsize=(15,7))\n",
    "\n",
    "# plot a 3D surface like in the example mplot3d/surface3d_demo\n",
    "X = range(0,449)\n",
    "Y = range(0,449)\n",
    "X, Y = np.meshgrid(X, Y)\n",
    "ax[0].invert_yaxis()\n",
    "ax[1].invert_yaxis()\n",
    "ax[0].set_zlim(0, 1)\n",
    "ax[1].set_zlim(0, 1)\n",
    "# Aggregated Attention by Log Key (Input Sequences)\n",
    "Z = scale_attention(federated_normal)\n",
    "surf = ax[0].plot_surface(X, Y, Z, rstride=1, cstride=1, cmap=cm.coolwarm,\n",
    "                       linewidth=0, antialiased=False,vmin=0)\n",
    "\n",
    "Z = scale_attention(attention_matrix_2)\n",
    "surf = ax[1].plot_surface(X, Y, Z, rstride=1, cstride=1, cmap=cm.coolwarm,\n",
    "                       linewidth=0, antialiased=False,vmin=0)\n",
    "\n",
    "ax[0].set(title=\"Federated Model\\nAttention of Normal Operation\")\n",
    "ax[1].set(title=\"Federated Model\\nAttention of Cyber Threats\")\n",
    "\n",
    "ax[0].set_xlabel(\"Log Keys from Input Sequences\")\n",
    "ax[0].set_ylabel(\"Label\")\n",
    "\n",
    "ax[1].set_xlabel(\"Log Keys from Input Sequences\")\n",
    "ax[1].set_ylabel(\"Label\")\n",
    "\n",
    "fig.colorbar(surf, ax=ax, shrink=0.5, aspect=10)\n",
    "\n",
    "plt.savefig('figures/federated_normal_and_cyber_threats_3d_v2.png')\n",
    "plt.show()"
   ]
  },
  {
   "cell_type": "markdown",
   "metadata": {},
   "source": [
    "## Added Attention"
   ]
  },
  {
   "cell_type": "code",
   "execution_count": null,
   "metadata": {},
   "outputs": [],
   "source": [
    "fig, axs = plt.subplots(1,2, figsize=(10, 5))\n",
    "\n",
    "# Log Key Frequency\n",
    "axs[0].set_xlabel(\"Log Keys from Input Sequences\", fontsize=14)\n",
    "axs[0].set_ylabel(\"Attention\", fontsize=14)\n",
    "axs[0].set_title(\"Federated Model\\nAttention of Normal Operation\", fontsize=14)\n",
    "axs[0].bar(range(0,federated_normal_sum.shape[0]), federated_normal_sum, color = \"blue\")\n",
    "axs[0].set_xticks(range(0,federated_normal_sum.shape[0]))\n",
    "axs[0].set_xlim([-0.5, federated_normal_sum.shape[0]])\n",
    "axs[0].set_xticklabels(cols_fed_norm, fontsize=9, rotation= 90)\n",
    "\n",
    "axs[1].set_xlabel(\"Log Keys from Input Sequences\", fontsize=14)\n",
    "axs[1].set_ylabel(\"Attention\", fontsize=14)\n",
    "axs[1].set_title(\"Federated Model\\nAttention of Cyber Threats\", fontsize=14)\n",
    "axs[1].bar(range(0,attention_matrix_2_sum.shape[0]), attention_matrix_2_sum, color = \"blue\")\n",
    "axs[1].set_xticks(range(0,attention_matrix_2_sum.shape[0]))\n",
    "axs[1].set_xlim([-0.5, attention_matrix_2_sum.shape[0]])\n",
    "axs[1].set_xticklabels(cols_2, fontsize=9, rotation= 90)\n",
    "\n",
    "axs[0].set_ylim([0, 1])\n",
    "axs[1].set_ylim([0, 1])\n",
    "\n",
    "axs[0].locator_params(nbins=25, axis='x')\n",
    "axs[1].locator_params(nbins=25, axis='x')\n",
    "\n",
    "plt.setp(axs[0], xlabel=\"Log Keys from Input Sequences\")\n",
    "plt.setp(axs[1], xlabel=\"Log Keys from Input Sequences\")\n",
    "#plt.tight_layout()\n",
    "\n",
    "plt.savefig('figures/federated_normal_and_cyber_threats_bar_v2.png')\n",
    "plt.show()"
   ]
  },
  {
   "cell_type": "markdown",
   "metadata": {},
   "source": [
    "# Abnormal DDoS"
   ]
  },
  {
   "cell_type": "code",
   "execution_count": 5,
   "metadata": {},
   "outputs": [
    {
     "name": "stdout",
     "output_type": "stream",
     "text": [
      "(449, 449)\n",
      "(449, 449)\n",
      "(449, 449)\n"
     ]
    }
   ],
   "source": [
    "with open('decoder_attentions/tp_DDoS-001_attention.npy', 'rb') as f:\n",
    "    BT_DDoS_001 = np.load(f)\n",
    "print(BT_DDoS_001.shape)\n",
    "\n",
    "with open('decoder_attentions/tp_NTP-DDoS-Amplification_attention.npy', 'rb') as f:\n",
    "    NTP_DDoS = np.load(f)\n",
    "print(NTP_DDoS.shape)\n",
    "\n",
    "with open('decoder_attentions/tp_SYN-Flood_attention.npy', 'rb') as f:\n",
    "    SYN_Flood = np.load(f)\n",
    "print(SYN_Flood.shape)"
   ]
  },
  {
   "cell_type": "code",
   "execution_count": 6,
   "metadata": {},
   "outputs": [
    {
     "name": "stdout",
     "output_type": "stream",
     "text": [
      "New Heatmap Shape\n",
      "(42, 38)\n",
      "New Heatmap Shape\n",
      "(11, 10)\n",
      "New Heatmap Shape\n",
      "(37, 29)\n",
      "New Heatmap Shape\n",
      "(42, 38)\n"
     ]
    }
   ],
   "source": [
    "# Generate federated attention by adding attention weights from DDoS Attack Samples\n",
    "federated_ddos = np.add(BT_DDoS_001,NTP_DDoS,SYN_Flood)\n",
    "\n",
    "# Delete all zero elements in 2d attention array\n",
    "federated_ddos_rd, rows_fed_ddos, cols_fed_ddos = matrix_reduce(federated_ddos)\n",
    "BT_DDoS_001_rd, rows_bt_ddos, cols_bt_ddos = matrix_reduce(BT_DDoS_001)\n",
    "NTP_DDoS_rd, rows_ntp_ddos, cols_ntp_ddos = matrix_reduce(NTP_DDoS)\n",
    "SYN_Flood_rd, rows_syn_flood, cols_syn_flood = matrix_reduce(SYN_Flood)\n",
    "\n",
    "# Sum attention over the input keys and scale it.\n",
    "federated_ddos_sum = scale_attention(federated_ddos_rd.sum(axis=0))\n",
    "BT_DDoS_001_sum = scale_attention(BT_DDoS_001_rd.sum(axis=0))\n",
    "NTP_DDoS_sum = scale_attention(NTP_DDoS_rd.sum(axis=0))\n",
    "SYN_Flood_sum = scale_attention(SYN_Flood_rd.sum(axis=0))"
   ]
  },
  {
   "cell_type": "markdown",
   "metadata": {},
   "source": [
    "## Heatmap"
   ]
  },
  {
   "cell_type": "code",
   "execution_count": null,
   "metadata": {},
   "outputs": [],
   "source": [
    "fig, axs = plt.subplots(1,4, figsize=(20, 5))\n",
    "\n",
    "# Attention Heatmaps\n",
    "\n",
    "# Aggregated Attention by Log Key (Input Sequences)\n",
    "draw(scale_attention(federated_ddos), range(0,449), range(0,449), ax=axs[0], cbar=False)\n",
    "axs[0].set_xlabel(\"Log Keys from Input Sequences\", fontsize=14)\n",
    "axs[0].set_ylabel(\"Label\", fontsize=14)\n",
    "axs[0].set_title(\"Federated Model\\nAttention of Normal Operation\", fontsize=14)\n",
    "axs[0].invert_yaxis()\n",
    "\n",
    "draw(scale_attention(BT_DDoS_001), range(0,449), range(0,449), ax=axs[1], cbar=True)\n",
    "axs[1].set_xlabel(\"Log Keys from Input Sequences\", fontsize=14)\n",
    "axs[1].set_ylabel(\"Label\", fontsize=14)\n",
    "axs[1].set_title(\"Federated Model\\nAttention of BT DDoS Attack\", fontsize=14)\n",
    "axs[1].invert_yaxis()\n",
    "\n",
    "draw(scale_attention(NTP_DDoS), range(0,449), range(0,449), ax=axs[2], cbar=True)\n",
    "axs[2].set_xlabel(\"Log Keys from Input Sequences\", fontsize=14)\n",
    "axs[2].set_ylabel(\"Label\", fontsize=14)\n",
    "axs[2].set_title(\"Federated Model\\nAttention of NTP DDoS Attack\", fontsize=14)\n",
    "axs[2].invert_yaxis()\n",
    "\n",
    "draw(scale_attention(SYN_Flood), range(0,449), range(0,449), ax=axs[3], cbar=True)\n",
    "axs[3].set_xlabel(\"Log Keys from Input Sequences\", fontsize=14)\n",
    "axs[3].set_ylabel(\"Label\", fontsize=14)\n",
    "axs[3].set_title(\"Federated Model\\nAttention of SYN Flood Attack\", fontsize=14)\n",
    "axs[3].invert_yaxis()\n",
    "\n",
    "axs[0].set_aspect('auto')\n",
    "axs[1].set_aspect('auto')\n",
    "axs[2].set_aspect('auto')\n",
    "axs[3].set_aspect('auto')\n",
    "axs[0].locator_params(nbins=16, axis='x')\n",
    "axs[1].locator_params(nbins=16, axis='x')\n",
    "axs[2].locator_params(nbins=16, axis='x')\n",
    "axs[3].locator_params(nbins=16, axis='x')\n",
    "axs[0].locator_params(nbins=16, axis='y')\n",
    "axs[1].locator_params(nbins=16, axis='y')\n",
    "axs[2].locator_params(nbins=16, axis='y')\n",
    "axs[3].locator_params(nbins=16, axis='y')\n",
    "#plt.tight_layout()\n",
    "\n",
    "plt.savefig('figures/federated_ddos_heatmap.png')\n",
    "plt.show()"
   ]
  },
  {
   "cell_type": "code",
   "execution_count": 7,
   "metadata": {},
   "outputs": [
    {
     "name": "stderr",
     "output_type": "stream",
     "text": [
      "/home/ubuntu/.local/lib/python3.6/site-packages/ipykernel_launcher.py:10: RuntimeWarning: divide by zero encountered in log10\n",
      "  # Remove the CWD from sys.path while we load stuff.\n"
     ]
    },
    {
     "name": "stdout",
     "output_type": "stream",
     "text": [
      "New Heatmap Shape\n",
      "(37, 29)\n",
      "New Heatmap Shape\n",
      "(42, 38)\n",
      "New Heatmap Shape\n",
      "(11, 10)\n",
      "New Heatmap Shape\n",
      "(42, 38)\n"
     ]
    },
    {
     "data": {
      "image/png": "[encoded data removed]",
      "text/plain": [
       "<Figure size 720x720 with 6 Axes>"
      ]
     },
     "metadata": {
      "needs_background": "light"
     },
     "output_type": "display_data"
    }
   ],
   "source": [
    "fig, axs = plt.subplots(2,2, figsize=(10, 10))\n",
    "\n",
    "# Attention Heatmaps\n",
    "\n",
    "# Aggregated Attention by Log Key (Input Sequences)\n",
    "draw(scale_attention(NTP_DDoS), range(0,449), range(0,449), ax=axs[0,0], cbar=False)\n",
    "axs[0,0].set_xlabel(\"Log Keys from Input Sequences\", fontsize=14)\n",
    "axs[0,0].set_ylabel(\"Label\", fontsize=14)\n",
    "axs[0,0].set_title(\"Federated Model\\nAttention of NTP DDoS Attack\", fontsize=14)\n",
    "axs[0,0].invert_yaxis()\n",
    "\n",
    "draw(scale_attention(SYN_Flood), range(0,449), range(0,449), ax=axs[0,1], cbar=True)\n",
    "axs[0,1].set_xlabel(\"Log Keys from Input Sequences\", fontsize=14)\n",
    "axs[0,1].set_ylabel(\"Label\", fontsize=14)\n",
    "axs[0,1].set_title(\"Federated Model\\nAttention of SYN Flood Attack\", fontsize=14)\n",
    "axs[0,1].invert_yaxis()\n",
    "\n",
    "draw(scale_attention(BT_DDoS_001), range(0,449), range(0,449), ax=axs[1,0], cbar=True)\n",
    "axs[1,0].set_xlabel(\"Log Keys from Input Sequences\", fontsize=14)\n",
    "axs[1,0].set_ylabel(\"Label\", fontsize=14)\n",
    "axs[1,0].set_title(\"Federated Model\\nAttention of BT DDoS Attack\", fontsize=14)\n",
    "axs[1,0].invert_yaxis()\n",
    "\n",
    "draw(scale_attention(federated_ddos), range(0,449), range(0,449), ax=axs[1,1], cbar=False)\n",
    "axs[1,1].set_xlabel(\"Log Keys from Input Sequences\", fontsize=14)\n",
    "axs[1,1].set_ylabel(\"Label\", fontsize=14)\n",
    "axs[1,1].set_title(\"Federated Model\\nAttention of Aggregated DDoS Attacks\", fontsize=14)\n",
    "axs[1,1].invert_yaxis()\n",
    "\n",
    "axs[0,0].set_aspect('auto')\n",
    "axs[0,1].set_aspect('auto')\n",
    "axs[1,0].set_aspect('auto')\n",
    "axs[1,1].set_aspect('auto')\n",
    "axs[0,0].locator_params(nbins=16, axis='x')\n",
    "axs[0,1].locator_params(nbins=16, axis='x')\n",
    "axs[1,0].locator_params(nbins=16, axis='x')\n",
    "axs[1,1].locator_params(nbins=16, axis='x')\n",
    "axs[0,0].locator_params(nbins=16, axis='y')\n",
    "axs[0,1].locator_params(nbins=16, axis='y')\n",
    "axs[1,0].locator_params(nbins=16, axis='y')\n",
    "axs[1,1].locator_params(nbins=16, axis='y')\n",
    "plt.tight_layout()\n",
    "\n",
    "plt.savefig('figures/federated_ddos_heatmap_v2.png')\n",
    "plt.show()"
   ]
  },
  {
   "cell_type": "markdown",
   "metadata": {},
   "source": [
    "## 3D Plot"
   ]
  },
  {
   "cell_type": "code",
   "execution_count": null,
   "metadata": {},
   "outputs": [],
   "source": [
    "#fig, ax = plt.subplots(nrows=1, ncols=2, subplot_kw=dict(projection='3d'),figsize=plt.figaspect(3/6))\n",
    "fig, ax = plt.subplots(nrows=1, ncols=4, subplot_kw=dict(projection='3d'),figsize=(20,5))\n",
    "\n",
    "# plot a 3D surface like in the example mplot3d/surface3d_demo\n",
    "X = range(0,449)\n",
    "Y = range(0,449)\n",
    "X, Y = np.meshgrid(X, Y)\n",
    "ax[0].invert_yaxis()\n",
    "ax[1].invert_yaxis()\n",
    "ax[2].invert_yaxis()\n",
    "ax[3].invert_yaxis()\n",
    "ax[0].set_zlim(0, 1)\n",
    "ax[1].set_zlim(0, 1)\n",
    "ax[2].set_zlim(0, 1)\n",
    "ax[3].set_zlim(0, 1)\n",
    "# Aggregated Attention by Log Key (Input Sequences)\n",
    "Z = scale_attention(federated_ddos)\n",
    "surf = ax[0].plot_surface(X, Y, Z, rstride=1, cstride=1, cmap=cm.coolwarm,\n",
    "                       linewidth=0, antialiased=False,vmin=0)\n",
    "\n",
    "Z = scale_attention(BT_DDoS_001)\n",
    "surf = ax[1].plot_surface(X, Y, Z, rstride=1, cstride=1, cmap=cm.coolwarm,\n",
    "                       linewidth=0, antialiased=False,vmin=0)\n",
    "\n",
    "Z = scale_attention(NTP_DDoS)\n",
    "surf = ax[2].plot_surface(X, Y, Z, rstride=1, cstride=1, cmap=cm.coolwarm,\n",
    "                       linewidth=0, antialiased=False,vmin=0)\n",
    "\n",
    "Z = scale_attention(SYN_Flood)\n",
    "surf = ax[3].plot_surface(X, Y, Z, rstride=1, cstride=1, cmap=cm.coolwarm,\n",
    "                       linewidth=0, antialiased=False,vmin=0)\n",
    "\n",
    "ax[0].set(title=\"Federated Model\\nAttention of Aggregated DDoS Attacks\")\n",
    "ax[1].set(title=\"Federated Model\\nAttention of BT DDoS Attack\")\n",
    "ax[2].set(title=\"Federated Model\\nAttention of NTP DDoS Attack\")\n",
    "ax[3].set(title=\"Federated Model\\nAttention of SYN Flood Attack\")\n",
    "\n",
    "ax[0].set_xlabel(\"Log Keys from Input Sequences\")\n",
    "ax[0].set_ylabel(\"Label\")\n",
    "\n",
    "ax[1].set_xlabel(\"Log Keys from Input Sequences\")\n",
    "ax[1].set_ylabel(\"Label\")\n",
    "\n",
    "ax[2].set_xlabel(\"Log Keys from Input Sequences\")\n",
    "ax[2].set_ylabel(\"Label\")\n",
    "\n",
    "ax[3].set_xlabel(\"Log Keys from Input Sequences\")\n",
    "ax[3].set_ylabel(\"Label\")\n",
    "\n",
    "fig.colorbar(surf, ax=ax, shrink=0.5, aspect=10)\n",
    "\n",
    "plt.savefig('figures/federated_ddos_3d_v1.png')\n",
    "plt.show()"
   ]
  },
  {
   "cell_type": "code",
   "execution_count": null,
   "metadata": {},
   "outputs": [],
   "source": [
    "#fig, ax = plt.subplots(nrows=1, ncols=2, subplot_kw=dict(projection='3d'),figsize=plt.figaspect(3/6))\n",
    "fig, ax = plt.subplots(nrows=2, ncols=2, subplot_kw=dict(projection='3d'),figsize=(15,15))\n",
    "\n",
    "# plot a 3D surface like in the example mplot3d/surface3d_demo\n",
    "X = range(0,449)\n",
    "Y = range(0,449)\n",
    "X, Y = np.meshgrid(X, Y)\n",
    "ax[0,0].invert_yaxis()\n",
    "ax[0,1].invert_yaxis()\n",
    "ax[1,0].invert_yaxis()\n",
    "ax[1,1].invert_yaxis()\n",
    "ax[0,0].set_zlim(0, 1)\n",
    "ax[0,1].set_zlim(0, 1)\n",
    "ax[1,0].set_zlim(0, 1)\n",
    "ax[1,1].set_zlim(0, 1)\n",
    "# Aggregated Attention by Log Key (Input Sequences)\n",
    "Z = scale_attention(federated_ddos)\n",
    "surf = ax[0,0].plot_surface(X, Y, Z, rstride=1, cstride=1, cmap=cm.coolwarm,\n",
    "                       linewidth=0, antialiased=False,vmin=0)\n",
    "\n",
    "Z = scale_attention(BT_DDoS_001)\n",
    "surf = ax[0,1].plot_surface(X, Y, Z, rstride=1, cstride=1, cmap=cm.coolwarm,\n",
    "                       linewidth=0, antialiased=False,vmin=0)\n",
    "\n",
    "Z = scale_attention(NTP_DDoS)\n",
    "surf = ax[1,0].plot_surface(X, Y, Z, rstride=1, cstride=1, cmap=cm.coolwarm,\n",
    "                       linewidth=0, antialiased=False,vmin=0)\n",
    "\n",
    "Z = scale_attention(SYN_Flood)\n",
    "surf = ax[1,1].plot_surface(X, Y, Z, rstride=1, cstride=1, cmap=cm.coolwarm,\n",
    "                       linewidth=0, antialiased=False,vmin=0)\n",
    "\n",
    "ax[0,0].set(title=\"Federated Model\\nAttention of Aggregated DDoS Attacks\")\n",
    "ax[0,1].set(title=\"Federated Model\\nAttention of BT DDoS Attack\")\n",
    "ax[1,0].set(title=\"Federated Model\\nAttention of NTP DDoS Attack\")\n",
    "ax[1,1].set(title=\"Federated Model\\nAttention of SYN Flood Attack\")\n",
    "\n",
    "ax[0,0].set_xlabel(\"Log Keys from Input Sequences\")\n",
    "ax[0,0].set_ylabel(\"Label\")\n",
    "\n",
    "ax[0,1].set_xlabel(\"Log Keys from Input Sequences\")\n",
    "ax[0,1].set_ylabel(\"Label\")\n",
    "\n",
    "ax[1,0].set_xlabel(\"Log Keys from Input Sequences\")\n",
    "ax[1,0].set_ylabel(\"Label\")\n",
    "\n",
    "ax[1,1].set_xlabel(\"Log Keys from Input Sequences\")\n",
    "ax[1,1].set_ylabel(\"Label\")\n",
    "\n",
    "fig.colorbar(surf, ax=ax, shrink=0.5, aspect=10)\n",
    "\n",
    "plt.savefig('figures/federated_ddos_3d_v2.png')\n",
    "plt.show()"
   ]
  },
  {
   "cell_type": "markdown",
   "metadata": {},
   "source": [
    "## Added Attention"
   ]
  },
  {
   "cell_type": "code",
   "execution_count": null,
   "metadata": {},
   "outputs": [],
   "source": [
    "fig, axs = plt.subplots(1,4, figsize=(20, 5))\n",
    "\n",
    "# Log Key Frequency\n",
    "axs[0].set_xlabel(\"Log Keys from Input Sequences\", fontsize=14)\n",
    "axs[0].set_ylabel(\"Attention\", fontsize=14)\n",
    "axs[0].set_title(\"Federated Model\\nAttention of Aggregated DDoS Attacks\", fontsize=14)\n",
    "axs[0].bar(range(0,federated_ddos_sum.shape[0]), federated_ddos_sum, color = \"blue\")\n",
    "axs[0].set_xticks(range(0,federated_ddos_sum.shape[0]))\n",
    "axs[0].set_xlim([-0.5, federated_ddos_sum.shape[0]])\n",
    "axs[0].set_xticklabels(cols_fed_ddos, fontsize=8, rotation= 90)\n",
    "\n",
    "axs[1].set_xlabel(\"Log Keys from Input Sequences\", fontsize=14)\n",
    "axs[1].set_ylabel(\"Attention\", fontsize=14)\n",
    "axs[1].set_title(\"Federated Model\\nAttention of BT DDoS Attack\", fontsize=14)\n",
    "axs[1].bar(range(0,BT_DDoS_001_sum.shape[0]), BT_DDoS_001_sum, color = \"blue\")\n",
    "axs[1].set_xticks(range(0,BT_DDoS_001_sum.shape[0]))\n",
    "axs[1].set_xlim([-0.5, BT_DDoS_001_sum.shape[0]])\n",
    "axs[1].set_xticklabels(cols_bt_ddos, fontsize=8, rotation= 90)\n",
    "\n",
    "axs[2].set_xlabel(\"Log Keys from Input Sequences\", fontsize=14)\n",
    "axs[2].set_ylabel(\"Attention\", fontsize=14)\n",
    "axs[2].set_title(\"Federated Model\\nAttention of NTP DDoS Attack\", fontsize=14)\n",
    "axs[2].bar(range(0,NTP_DDoS_sum.shape[0]), NTP_DDoS_sum, color = \"blue\")\n",
    "axs[2].set_xticks(range(0,NTP_DDoS_sum.shape[0]))\n",
    "axs[2].set_xlim([-0.5, NTP_DDoS_sum.shape[0]])\n",
    "axs[2].set_xticklabels(cols_ntp_ddos, fontsize=8, rotation= 90)\n",
    "\n",
    "axs[3].set_xlabel(\"Log Keys from Input Sequences\", fontsize=14)\n",
    "axs[3].set_ylabel(\"Attention\", fontsize=14)\n",
    "axs[3].set_title(\"Federated Model\\nAttention of SYN Flood Attack\", fontsize=14)\n",
    "axs[3].bar(range(0,SYN_Flood_sum.shape[0]), SYN_Flood_sum, color = \"blue\")\n",
    "axs[3].set_xticks(range(0,SYN_Flood_sum.shape[0]))\n",
    "axs[3].set_xlim([-0.5, SYN_Flood_sum.shape[0]])\n",
    "axs[3].set_xticklabels(cols_syn_flood, fontsize=8, rotation= 90)\n",
    "\n",
    "axs[0].set_ylim([0, 1])\n",
    "axs[1].set_ylim([0, 1])\n",
    "axs[2].set_ylim([0, 1])\n",
    "axs[3].set_ylim([0, 1])\n",
    "\n",
    "plt.setp(axs[0], xlabel=\"Log Keys from Input Sequences\")\n",
    "plt.setp(axs[1], xlabel=\"Log Keys from Input Sequences\")\n",
    "plt.setp(axs[2], xlabel=\"Log Keys from Input Sequences\")\n",
    "plt.setp(axs[3], xlabel=\"Log Keys from Input Sequences\")\n",
    "plt.tight_layout()\n",
    "\n",
    "plt.savefig('figures/federated_ddos_bar_v1.png')\n",
    "plt.show()"
   ]
  },
  {
   "cell_type": "code",
   "execution_count": 8,
   "metadata": {},
   "outputs": [
    {
     "data": {
      "image/png": "[encoded data removed]",
      "text/plain": [
       "<Figure size 720x720 with 4 Axes>"
      ]
     },
     "metadata": {},
     "output_type": "display_data"
    }
   ],
   "source": [
    "fig, axs = plt.subplots(2,2, figsize=(10, 10))\n",
    "\n",
    "# Aggregated Attention by Log Key\n",
    "axs[0,0].set_xlabel(\"Log Keys from Input Sequences\", fontsize=14)\n",
    "axs[0,0].set_ylabel(\"Attention\", fontsize=14)\n",
    "axs[0,0].set_title(\"Federated Model\\nAttention of NTP DDoS Attack\", fontsize=14)\n",
    "axs[0,0].bar(range(0,NTP_DDoS_sum.shape[0]), NTP_DDoS_sum, color = \"blue\")\n",
    "axs[0,0].set_xticks(range(0,NTP_DDoS_sum.shape[0]))\n",
    "axs[0,0].set_xlim([-0.5, NTP_DDoS_sum.shape[0]])\n",
    "axs[0,0].set_xticklabels(cols_ntp_ddos, fontsize=8, rotation= 90)\n",
    "\n",
    "axs[0,1].set_xlabel(\"Log Keys from Input Sequences\", fontsize=14)\n",
    "axs[0,1].set_ylabel(\"Attention\", fontsize=14)\n",
    "axs[0,1].set_title(\"Federated Model\\nAttention of SYN Flood Attack\", fontsize=14)\n",
    "axs[0,1].bar(range(0,SYN_Flood_sum.shape[0]), SYN_Flood_sum, color = \"blue\")\n",
    "axs[0,1].set_xticks(range(0,SYN_Flood_sum.shape[0]))\n",
    "axs[0,1].set_xlim([-0.5, SYN_Flood_sum.shape[0]])\n",
    "axs[0,1].set_xticklabels(cols_syn_flood, fontsize=8, rotation= 90)\n",
    "\n",
    "axs[1,0].set_xlabel(\"Log Keys from Input Sequences\", fontsize=14)\n",
    "axs[1,0].set_ylabel(\"Attention\", fontsize=14)\n",
    "axs[1,0].set_title(\"Federated Model\\nAttention of BT DDoS Attack\", fontsize=14)\n",
    "axs[1,0].bar(range(0,BT_DDoS_001_sum.shape[0]), BT_DDoS_001_sum, color = \"blue\")\n",
    "axs[1,0].set_xticks(range(0,BT_DDoS_001_sum.shape[0]))\n",
    "axs[1,0].set_xlim([-0.5, BT_DDoS_001_sum.shape[0]])\n",
    "axs[1,0].set_xticklabels(cols_bt_ddos, fontsize=8, rotation= 90)\n",
    "\n",
    "axs[1,1].set_xlabel(\"Log Keys from Input Sequences\", fontsize=14)\n",
    "axs[1,1].set_ylabel(\"Attention\", fontsize=14)\n",
    "axs[1,1].set_title(\"Federated Model\\nAttention of Aggregated DDoS Attacks\", fontsize=14)\n",
    "axs[1,1].bar(range(0,federated_ddos_sum.shape[0]), federated_ddos_sum, color = \"blue\")\n",
    "axs[1,1].set_xticks(range(0,federated_ddos_sum.shape[0]))\n",
    "axs[1,1].set_xlim([-0.5, federated_ddos_sum.shape[0]])\n",
    "axs[1,1].set_xticklabels(cols_fed_ddos, fontsize=8, rotation= 90)\n",
    "\n",
    "axs[0,0].set_ylim([0, 1])\n",
    "axs[0,1].set_ylim([0, 1])\n",
    "axs[1,0].set_ylim([0, 1])\n",
    "axs[1,1].set_ylim([0, 1])\n",
    "\n",
    "plt.setp(axs[0,0], xlabel=\"Log Keys from Input Sequences\")\n",
    "plt.setp(axs[0,1], xlabel=\"Log Keys from Input Sequences\")\n",
    "plt.setp(axs[1,0], xlabel=\"Log Keys from Input Sequences\")\n",
    "plt.setp(axs[1,1], xlabel=\"Log Keys from Input Sequences\")\n",
    "plt.tight_layout()\n",
    "\n",
    "axs[0,0].set_aspect('auto')\n",
    "axs[0,1].set_aspect('auto')\n",
    "axs[1,0].set_aspect('auto')\n",
    "axs[1,1].set_aspect('auto')\n",
    "axs[0,0].locator_params(nbins=16, axis='x')\n",
    "axs[0,1].locator_params(nbins=16, axis='x')\n",
    "axs[1,0].locator_params(nbins=16, axis='x')\n",
    "axs[1,1].locator_params(nbins=16, axis='x')\n",
    "axs[0,0].locator_params(nbins=16, axis='y')\n",
    "axs[0,1].locator_params(nbins=16, axis='y')\n",
    "axs[1,0].locator_params(nbins=16, axis='y')\n",
    "axs[1,1].locator_params(nbins=16, axis='y')\n",
    "\n",
    "plt.savefig('figures/federated_ddos_bar_v2.png')\n",
    "plt.show()"
   ]
  },
  {
   "cell_type": "markdown",
   "metadata": {},
   "source": [
    "# Run for a Specific Example"
   ]
  },
  {
   "cell_type": "markdown",
   "metadata": {},
   "source": [
    "## Individual Example"
   ]
  },
  {
   "cell_type": "code",
   "execution_count": null,
   "metadata": {},
   "outputs": [],
   "source": [
    "with open('decoder_attentions/tp_Malaria_attention.npy', 'rb') as f:\n",
    "    attention_matrix_x = np.load(f)\n",
    "attention_matrix_x.shape"
   ]
  },
  {
   "cell_type": "code",
   "execution_count": null,
   "metadata": {},
   "outputs": [],
   "source": [
    "# Sum attention over the input keys and scale it.\n",
    "attention_matrix_x_rd, rows, cols = matrix_reduce(attention_matrix_x)\n",
    "attention_matrix_x_sum = scale_attention(attention_matrix_x_rd.sum(axis=0))\n",
    "print(attention_matrix_x_sum)\n",
    "print(len(attention_matrix_x_sum))"
   ]
  },
  {
   "cell_type": "markdown",
   "metadata": {},
   "source": [
    "## Heatmap"
   ]
  },
  {
   "cell_type": "code",
   "execution_count": null,
   "metadata": {},
   "outputs": [],
   "source": [
    "from matplotlib.ticker import AutoMinorLocator\n",
    "\n",
    "fig, axs = plt.subplots(1,1, figsize=(10, 10))\n",
    "\n",
    "# Attention Heatmaps\n",
    "\n",
    "# Aggregated Attention by Log Key (Input Sequences)\n",
    "draw(scale_attention(attention_matrix_x), range(0,449), range(0,449), ax=axs, cbar=True)\n",
    "axs.set_xlabel(\"Log Keys from Input Sequences\", fontsize=14)\n",
    "axs.set_ylabel(\"Label\", fontsize=14)\n",
    "axs.set_title(\"Federated Model\\nAttention of Malaria\", fontsize=14)\n",
    "axs.invert_yaxis()\n",
    "\n",
    "x_labels = [item.get_text() for item in axs.get_xticklabels()]\n",
    "y_labels = [item.get_text() for item in axs.get_yticklabels()]\n",
    "\n",
    "axs.locator_params(nbins=18, axis='x')\n",
    "axs.locator_params(nbins=18, axis='y')\n",
    "\n",
    "stepsize=1\n",
    "start, end = axs.get_xlim()\n",
    "axs.set_xticks(np.arange(start, end, stepsize))\n",
    "axs.set_xticks(np.arange(start+0.5, end+0.5, stepsize), minor=True)\n",
    "axs.set_xticklabels(x_labels, minor=True, rotation= 90)\n",
    "start, end = axs.get_ylim()\n",
    "axs.set_yticks(np.arange(start, end, stepsize))\n",
    "axs.set_yticks(np.arange(start+0.5, end+0.5, stepsize), minor=True)\n",
    "axs.set_yticklabels(y_labels, minor=True)\n",
    "axs.grid(color = 'black', linestyle = '--', linewidth = 0.5, which=\"major\", alpha=0.6)\n",
    "\n",
    "axs.set_axisbelow(True)\n",
    "\n",
    "axs.set_aspect('auto')\n",
    "plt.tight_layout()\n",
    "\n",
    "plt.savefig('figures/abnormal_sample_heatmap.png')\n",
    "plt.show()"
   ]
  },
  {
   "cell_type": "markdown",
   "metadata": {},
   "source": [
    "## 3D Plot"
   ]
  },
  {
   "cell_type": "code",
   "execution_count": null,
   "metadata": {},
   "outputs": [],
   "source": [
    "#fig, ax = plt.subplots(nrows=1, ncols=2, subplot_kw=dict(projection='3d'),figsize=plt.figaspect(3/6))\n",
    "fig, ax = plt.subplots(nrows=1, ncols=1, subplot_kw=dict(projection='3d'),figsize=(10,10))\n",
    "\n",
    "# plot a 3D surface like in the example mplot3d/surface3d_demo\n",
    "X = range(0,449)\n",
    "Y = range(0,449)\n",
    "X, Y = np.meshgrid(X, Y)\n",
    "ax.invert_yaxis()\n",
    "ax.invert_xaxis()\n",
    "ax.set_zlim(0, 1)\n",
    "\n",
    "attention_matrix_x_rd, rows, cols = matrix_reduce(attention_matrix_x)\n",
    "print(\"Rows:\",rows)\n",
    "print(\"Columns:\",cols)\n",
    "\n",
    "# Aggregated Attention by Log Key (Input Sequences)\n",
    "Z = scale_attention(attention_matrix_x_rd)\n",
    "X = range(0,len(cols))\n",
    "Y = range(0,len(rows))\n",
    "print(\"Rows:\",Y)\n",
    "print(\"Columns:\",X)\n",
    "\n",
    "ax.set_xticks(X)\n",
    "ax.set_yticks(Y)\n",
    "\n",
    "X, Y = np.meshgrid(X, Y)\n",
    "\n",
    "surf = ax.plot_surface(X, Y, Z, rstride=1, cstride=1, cmap=cm.coolwarm,\n",
    "                       linewidth=0, antialiased=False,vmin=0)\n",
    "\n",
    "# ax.locator_params(nbins=16, axis='x')\n",
    "# ax.locator_params(nbins=12, axis='y')\n",
    "ax.set(title=\"Federated Model\\nAttention of Malaria\")\n",
    "ax.set_xlabel(\"\\nLog Keys from Input Sequences\")\n",
    "ax.set_ylabel(\"\\nLabel\")\n",
    "ax.zaxis.set_rotate_label(False) \n",
    "ax.set_zlabel(\"Attention\", fontsize=10, rotation = 90)#270\n",
    "ax.set_xticklabels(cols, fontsize=7, rotation = -30)#50\n",
    "ax.set_yticklabels(rows, fontsize=7, rotation = 40)#235\n",
    "ax.view_init(30,220)\n",
    "fig.colorbar(surf, ax=ax, shrink=0.5, aspect=10)\n",
    "\n",
    "plt.tight_layout()\n",
    "plt.savefig('figures/abnormal_sample_3d.png')\n",
    "plt.show()"
   ]
  },
  {
   "cell_type": "markdown",
   "metadata": {},
   "source": [
    "## Added Attention"
   ]
  },
  {
   "cell_type": "code",
   "execution_count": null,
   "metadata": {},
   "outputs": [],
   "source": [
    "fig, axs = plt.subplots(1,1, figsize=(20, 10))\n",
    "\n",
    "# Log Key Frequency\n",
    "axs.set_xlabel(\"Log Keys from Input Sequences\", fontsize=14)\n",
    "axs.set_ylabel(\"Attention\", fontsize=14)\n",
    "axs.set_title(\"Federated Model\\nAttention of Malaria\", fontsize=14)\n",
    "axs.bar(np.arange(attention_matrix_x_sum.shape[0]), attention_matrix_x_sum, color = \"blue\")\n",
    "axs.set_xticks(range(0,attention_matrix_x_sum.shape[0]))\n",
    "axs.set_xlim([-0.5, attention_matrix_x_sum.shape[0]])\n",
    "axs.set_xticklabels(cols, rotation= 90)\n",
    "axs.set_ylim([0, 1])\n",
    "#plt.tight_layout()\n",
    "\n",
    "plt.savefig('figures/abnormal_sample_bar.png')\n",
    "plt.show()"
   ]
  },
  {
   "cell_type": "code",
   "execution_count": null,
   "metadata": {},
   "outputs": [],
   "source": []
  },
  {
   "cell_type": "code",
   "execution_count": null,
   "metadata": {},
   "outputs": [],
   "source": []
  }
 ],
 "metadata": {
  "kernelspec": {
   "display_name": "Python 3",
   "language": "python",
   "name": "python3"
  },
  "language_info": {
   "codemirror_mode": {
    "name": "ipython",
    "version": 3
   },
   "file_extension": ".py",
   "mimetype": "text/x-python",
   "name": "python",
   "nbconvert_exporter": "python",
   "pygments_lexer": "ipython3",
   "version": "3.6.9"
  }
 },
 "nbformat": 4,
 "nbformat_minor": 4
}
