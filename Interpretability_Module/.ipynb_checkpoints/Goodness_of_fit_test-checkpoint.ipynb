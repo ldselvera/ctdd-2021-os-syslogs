{
 "cells": [
  {
   "cell_type": "code",
   "execution_count": 2,
   "metadata": {},
   "outputs": [],
   "source": [
    "import numpy as np\n",
    "from scipy.stats import ks_2samp\n",
    "import numpy as np\n",
    "import scipy.stats as stats\n",
    "import matplotlib.pyplot as plt\n",
    "import seaborn as sns\n",
    "from numpy import random\n",
    "from scipy.stats import chi2"
   ]
  },
  {
   "cell_type": "code",
   "execution_count": 3,
   "metadata": {},
   "outputs": [
    {
     "name": "stdout",
     "output_type": "stream",
     "text": [
      "/mnt/data2/tad/Dataset/ctdd-2021-os-syslogs/Interpretability_Module\n"
     ]
    }
   ],
   "source": [
    "import os\n",
    "cwd = os.getcwd()\n",
    "print(cwd)"
   ]
  },
  {
   "cell_type": "markdown",
   "metadata": {},
   "source": [
    "# Chi Square Test"
   ]
  },
  {
   "cell_type": "code",
   "execution_count": 4,
   "metadata": {},
   "outputs": [],
   "source": [
    "def chi_square_test(observed,expected):\n",
    "    chi_matrix = ((observed-expected)**2)/expected\n",
    "    chi_matrix[np.isnan(chi_matrix)] = 0\n",
    "    chi_matrix[np.isinf(chi_matrix)] = 0\n",
    "    chi_square_matrix = (chi_matrix)\n",
    "    chi_square_stat = chi_square_matrix.sum(axis=1)\n",
    "    p_value= 1 - chi2.cdf(chi_square_stat.sum(),448)\n",
    "    return chi_square_matrix, chi_square_stat, p_value"
   ]
  },
  {
   "cell_type": "code",
   "execution_count": 5,
   "metadata": {},
   "outputs": [],
   "source": [
    "with open('Attention-Based_Weights/all_Linux_Client1_Normal_attention.npy', 'rb') as f:\n",
    "    attention_client1 = np.load(f)\n",
    "with open('Attention-Based_Weights/all_Linux_Client2_Normal_attention.npy', 'rb') as f:\n",
    "    attention_client2 = np.load(f)\n",
    "with open('Attention-Based_Weights/all_Linux_Normal_attention.npy', 'rb') as f:\n",
    "    attention_fed_normal = np.load(f)\n",
    "with open('Attention-Based_Weights/all_Linux_Abnormal_attention.npy', 'rb') as f:\n",
    "    attention_fed_abnormal = np.load(f)\n",
    "    \n",
    "with open('Attention-Based_Weights/all_Backdoor-001_attention.npy', 'rb') as f:\n",
    "    attention_backdoor001 = np.load(f)\n",
    "with open('Attention-Based_Weights/all_Backdoor-002_attention.npy', 'rb') as f:\n",
    "    attention_backdoor002 = np.load(f)\n",
    "with open('Attention-Based_Weights/all_Backdoor-003_attention.npy', 'rb') as f:\n",
    "    attention_backdoor003 = np.load(f)\n",
    "with open('Attention-Based_Weights/all_DDoS-001_attention.npy', 'rb') as f:\n",
    "    attention_ddos001 = np.load(f)\n",
    "with open('Attention-Based_Weights/all_Ech0raix-t1486_attention.npy', 'rb') as f:\n",
    "    attention_ech0raix = np.load(f)\n",
    "with open('Attention-Based_Weights/all_GonnaCry_attention.npy', 'rb') as f:\n",
    "    attention_gonnacry = np.load(f)\n",
    "with open('Attention-Based_Weights/all_Malaria_attention.npy', 'rb') as f:\n",
    "    attention_malaria = np.load(f)\n",
    "with open('Attention-Based_Weights/all_Nemox-t1027_attention.npy', 'rb') as f:\n",
    "    attention_nemox = np.load(f)\n",
    "with open('Attention-Based_Weights/all_Nf3ct0r-t1027_attention.npy', 'rb') as f:\n",
    "    attention_nf3ctor = np.load(f)\n",
    "with open('Attention-Based_Weights/all_NTP-DDoS-Amplification_attention.npy', 'rb') as f:\n",
    "    attention_ntpddos = np.load(f)\n",
    "with open('Attention-Based_Weights/all_Spyware-001_attention.npy', 'rb') as f:\n",
    "    attention_spyware001 = np.load(f)\n",
    "with open('Attention-Based_Weights/all_SYN-Flood_attention.npy', 'rb') as f:\n",
    "    attention_synflood = np.load(f)\n",
    "with open('Attention-Based_Weights/all_Utrojan-t1036_attention.npy', 'rb') as f:\n",
    "    attention_utrojan = np.load(f)\n",
    "with open('Attention-Based_Weights/all_Virus-001_attention.npy', 'rb') as f:\n",
    "    attention_virus001 = np.load(f)\n",
    "with open('Attention-Based_Weights/all_Virus-002_attention.npy', 'rb') as f:\n",
    "    attention_virus002 = np.load(f)\n",
    "with open('Attention-Based_Weights/all_Virus-003_attention.npy', 'rb') as f:\n",
    "    attention_virus003 = np.load(f)"
   ]
  },
  {
   "cell_type": "code",
   "execution_count": 6,
   "metadata": {},
   "outputs": [
    {
     "name": "stdout",
     "output_type": "stream",
     "text": [
      "Client 1 vs Client 2\n",
      "38210.51069600251\n",
      "0.0\n",
      "\n",
      "Client 1 vs Federated Normal\n",
      "27749.09802332373\n",
      "0.0\n",
      "\n",
      "Client 2 vs Federated Normal\n",
      "14386.63976718465\n",
      "0.0\n",
      "\n",
      "Federated Cyber-Threat vs Federated Normal\n",
      "(449,)\n",
      "0.0\n"
     ]
    },
    {
     "name": "stderr",
     "output_type": "stream",
     "text": [
      "/home/ubuntu/.local/lib/python3.6/site-packages/ipykernel_launcher.py:2: RuntimeWarning: divide by zero encountered in true_divide\n",
      "  \n",
      "/home/ubuntu/.local/lib/python3.6/site-packages/ipykernel_launcher.py:2: RuntimeWarning: invalid value encountered in true_divide\n",
      "  \n"
     ]
    }
   ],
   "source": [
    "# Client 1 vs Client 2 Test\n",
    "chi_square_c1_c2_matrix, chi_square_c1_c2_stat, chi_square_c1_c2_pvalue = chi_square_test(attention_client1,attention_client2)\n",
    "print(\"Client 1 vs Client 2\")\n",
    "print(chi_square_c1_c2_stat.sum())\n",
    "print(chi_square_c1_c2_pvalue)\n",
    "\n",
    "chi_square_c1_fn_matrix, chi_square_c1_fn_stat, chi_square_c1_fn_pvalue = chi_square_test(attention_client1,attention_fed_normal)\n",
    "print(\"\\nClient 1 vs Federated Normal\")\n",
    "print(chi_square_c1_fn_stat.sum())\n",
    "print(chi_square_c1_fn_pvalue)\n",
    "\n",
    "chi_square_c2_fn_matrix, chi_square_c2_fn_stat, chi_square_c2_fn_pvalue = chi_square_test(attention_client2,attention_fed_normal)\n",
    "print(\"\\nClient 2 vs Federated Normal\")\n",
    "print(chi_square_c2_fn_stat.sum())\n",
    "print(chi_square_c2_fn_pvalue)\n",
    "\n",
    "chi_square_fab_fn_matrix, chi_square_fab_fn_stat, chi_square_fab_fn_pvalue = chi_square_test(attention_fed_abnormal,attention_fed_normal)\n",
    "print(\"\\nFederated Cyber-Threat vs Federated Normal\")\n",
    "print(chi_square_fab_fn_stat.shape)\n",
    "print(chi_square_fab_fn_pvalue)"
   ]
  },
  {
   "cell_type": "markdown",
   "metadata": {},
   "source": [
    "## Chi Square - Cyber-Threats vs Federated Normal"
   ]
  },
  {
   "cell_type": "code",
   "execution_count": 7,
   "metadata": {},
   "outputs": [
    {
     "name": "stdout",
     "output_type": "stream",
     "text": [
      "\n",
      "Backdoor 001 vs Federated Normal\n",
      "66454.1452717844\n",
      "\n",
      "Backdoor 002 vs Federated Normal\n",
      "66452.13150795363\n",
      "\n",
      "Backdoor 003 vs Federated Normal\n",
      "66449.28852226304\n",
      "\n",
      "DDoS 001 vs Federated Normal\n",
      "66452.65812949876\n",
      "\n",
      "Ech0raix vs Federated Normal\n",
      "66455.4496630311\n",
      "\n",
      "GonnaCry vs Federated Normal\n",
      "66454.62461822123\n",
      "\n",
      "Malaria vs Federated Normal\n",
      "66455.63389726492\n",
      "\n",
      "Nemox vs Federated Normal\n",
      "66454.10057629194\n",
      "\n",
      "Nf3ctor vs Federated Normal\n",
      "66454.26851343802\n",
      "\n",
      "NTP-DDoS vs Federated Normal\n",
      "66455.6187949224\n",
      "\n",
      "Spyware 001 vs Federated Normal\n",
      "66455.71086174344\n",
      "\n",
      "SYN-Flood vs Federated Normal\n",
      "66452.91789153779\n",
      "\n",
      "Utrojan vs Federated Normal\n",
      "66454.49032407686\n",
      "\n",
      "Utrojan vs Federated Normal\n",
      "66444.06365704938\n",
      "\n",
      "Utrojan vs Federated Normal\n",
      "66450.94604168352\n",
      "\n",
      "Utrojan vs Federated Normal\n",
      "66446.9464225866\n",
      "\n",
      "\n",
      "[66454.14527178 66452.13150795 66449.28852226 66452.6581295\n",
      " 66455.44966303 66454.62461822 66455.63389726 66454.10057629\n",
      " 66454.26851344 66455.61879492 66455.71086174 66452.91789154\n",
      " 66454.49032408 66444.06365705 66450.94604168 66446.94642259]\n",
      "[0. 0. 0. 0. 0. 0. 0. 0. 0. 0. 0. 0. 0. 0. 0. 0.]\n"
     ]
    },
    {
     "name": "stderr",
     "output_type": "stream",
     "text": [
      "/home/ubuntu/.local/lib/python3.6/site-packages/ipykernel_launcher.py:2: RuntimeWarning: divide by zero encountered in true_divide\n",
      "  \n",
      "/home/ubuntu/.local/lib/python3.6/site-packages/ipykernel_launcher.py:2: RuntimeWarning: invalid value encountered in true_divide\n",
      "  \n"
     ]
    }
   ],
   "source": [
    "ct_vs_fed_normal = []\n",
    "ct_vs_fed_normal_pvalue = []\n",
    "\n",
    "chi_square_bd1_fn_matrix, chi_square_bd1_fn_stat, chi_square_bd1_fn_pvalue = chi_square_test(attention_backdoor001,attention_fed_normal)\n",
    "print(\"\\nBackdoor 001 vs Federated Normal\")\n",
    "print(chi_square_bd1_fn_stat.sum())\n",
    "ct_vs_fed_normal.append(chi_square_bd1_fn_stat.sum())\n",
    "ct_vs_fed_normal_pvalue.append(chi_square_bd1_fn_pvalue)\n",
    "\n",
    "chi_square_bd2_fn_matrix, chi_square_bd2_fn_stat, chi_square_bd2_fn_pvalue = chi_square_test(attention_backdoor002,attention_fed_normal)\n",
    "print(\"\\nBackdoor 002 vs Federated Normal\")\n",
    "print(chi_square_bd2_fn_stat.sum())\n",
    "ct_vs_fed_normal.append(chi_square_bd2_fn_stat.sum())\n",
    "ct_vs_fed_normal_pvalue.append(chi_square_bd2_fn_pvalue)\n",
    "\n",
    "chi_square_bd3_fn_matrix, chi_square_bd3_fn_stat, chi_square_bd3_fn_pvalue = chi_square_test(attention_backdoor003,attention_fed_normal)\n",
    "print(\"\\nBackdoor 003 vs Federated Normal\")\n",
    "print(chi_square_bd3_fn_stat.sum())\n",
    "ct_vs_fed_normal.append(chi_square_bd3_fn_stat.sum())\n",
    "ct_vs_fed_normal_pvalue.append(chi_square_bd3_fn_pvalue)\n",
    "\n",
    "chi_square_ddos1_fn_matrix, chi_square_ddos1_fn_stat, chi_square_ddos1_fn_pvalue = chi_square_test(attention_ddos001,attention_fed_normal)\n",
    "print(\"\\nDDoS 001 vs Federated Normal\")\n",
    "print(chi_square_ddos1_fn_stat.sum())\n",
    "ct_vs_fed_normal.append(chi_square_ddos1_fn_stat.sum())\n",
    "ct_vs_fed_normal_pvalue.append(chi_square_ddos1_fn_pvalue)\n",
    "\n",
    "chi_square_ech0raix_fn_matrix, chi_square_ech0raix_fn_stat, chi_square_ech0raix_fn_pvalue = chi_square_test(attention_ech0raix,attention_fed_normal)\n",
    "print(\"\\nEch0raix vs Federated Normal\")\n",
    "print(chi_square_ech0raix_fn_stat.sum())\n",
    "ct_vs_fed_normal.append(chi_square_ech0raix_fn_stat.sum())\n",
    "ct_vs_fed_normal_pvalue.append(chi_square_ech0raix_fn_pvalue)\n",
    "\n",
    "chi_square_gc_fn_matrix, chi_square_gc_fn_stat, chi_square_gc_fn_pvalue = chi_square_test(attention_gonnacry,attention_fed_normal)\n",
    "print(\"\\nGonnaCry vs Federated Normal\")\n",
    "print(chi_square_gc_fn_stat.sum())\n",
    "ct_vs_fed_normal.append(chi_square_gc_fn_stat.sum())\n",
    "ct_vs_fed_normal_pvalue.append(chi_square_gc_fn_pvalue)\n",
    "\n",
    "chi_square_malaria_fn_matrix, chi_square_malaria_fn_stat, chi_square_malaria_fn_pvalue = chi_square_test(attention_malaria,attention_fed_normal)\n",
    "print(\"\\nMalaria vs Federated Normal\")\n",
    "print(chi_square_malaria_fn_stat.sum())\n",
    "ct_vs_fed_normal.append(chi_square_malaria_fn_stat.sum())\n",
    "ct_vs_fed_normal_pvalue.append(chi_square_malaria_fn_pvalue)\n",
    "\n",
    "chi_square_nemox_fn_matrix, chi_square_nemox_fn_stat, chi_square_nemox_fn_pvalue = chi_square_test(attention_nemox,attention_fed_normal)\n",
    "print(\"\\nNemox vs Federated Normal\")\n",
    "print(chi_square_nemox_fn_stat.sum())\n",
    "ct_vs_fed_normal.append(chi_square_nemox_fn_stat.sum())\n",
    "ct_vs_fed_normal_pvalue.append(chi_square_nemox_fn_pvalue)\n",
    "\n",
    "chi_square_nf3ctor_fn_matrix, chi_square_nf3ctor_fn_stat, chi_square_nf3ctor_fn_pvalue = chi_square_test(attention_nf3ctor,attention_fed_normal)\n",
    "print(\"\\nNf3ctor vs Federated Normal\")\n",
    "print(chi_square_nf3ctor_fn_stat.sum())\n",
    "ct_vs_fed_normal.append(chi_square_nf3ctor_fn_stat.sum())\n",
    "ct_vs_fed_normal_pvalue.append(chi_square_nf3ctor_fn_pvalue)\n",
    "\n",
    "chi_square_ntpddos_fn_matrix, chi_square_ntpddos_fn_stat, chi_square_ntpddos_fn_pvalue = chi_square_test(attention_ntpddos,attention_fed_normal)\n",
    "print(\"\\nNTP-DDoS vs Federated Normal\")\n",
    "print(chi_square_ntpddos_fn_stat.sum())\n",
    "ct_vs_fed_normal.append(chi_square_ntpddos_fn_stat.sum())\n",
    "ct_vs_fed_normal_pvalue.append(chi_square_ntpddos_fn_pvalue)\n",
    "\n",
    "chi_square_spy1_fn_matrix, chi_square_spy1_fn_stat, chi_square_spy1_fn_pvalue = chi_square_test(attention_spyware001,attention_fed_normal)\n",
    "print(\"\\nSpyware 001 vs Federated Normal\")\n",
    "print(chi_square_spy1_fn_stat.sum())\n",
    "ct_vs_fed_normal.append(chi_square_spy1_fn_stat.sum())\n",
    "ct_vs_fed_normal_pvalue.append(chi_square_spy1_fn_pvalue)\n",
    "\n",
    "chi_square_syfl_fn_matrix, chi_square_syfl_fn_stat, chi_square_syfl_fn_pvalue = chi_square_test(attention_synflood,attention_fed_normal)\n",
    "print(\"\\nSYN-Flood vs Federated Normal\")\n",
    "print(chi_square_syfl_fn_stat.sum())\n",
    "ct_vs_fed_normal.append(chi_square_syfl_fn_stat.sum())\n",
    "ct_vs_fed_normal_pvalue.append(chi_square_syfl_fn_pvalue)\n",
    "\n",
    "chi_square_utrojan_fn_matrix, chi_square_utrojan_fn_stat, chi_square_utrojan_fn_pvalue = chi_square_test(attention_utrojan,attention_fed_normal)\n",
    "print(\"\\nUtrojan vs Federated Normal\")\n",
    "print(chi_square_utrojan_fn_stat.sum())\n",
    "ct_vs_fed_normal.append(chi_square_utrojan_fn_stat.sum())\n",
    "ct_vs_fed_normal_pvalue.append(chi_square_utrojan_fn_pvalue)\n",
    "\n",
    "chi_square_vr1_fn_matrix, chi_square_vr1_fn_stat, chi_square_vr1_fn_pvalue = chi_square_test(attention_virus001,attention_fed_normal)\n",
    "print(\"\\nUtrojan vs Federated Normal\")\n",
    "print(chi_square_vr1_fn_stat.sum())\n",
    "ct_vs_fed_normal.append(chi_square_vr1_fn_stat.sum())\n",
    "ct_vs_fed_normal_pvalue.append(chi_square_vr1_fn_pvalue)\n",
    "\n",
    "chi_square_vr2_fn_matrix, chi_square_vr2_fn_stat, chi_square_vr2_fn_pvalue = chi_square_test(attention_virus002,attention_fed_normal)\n",
    "print(\"\\nUtrojan vs Federated Normal\")\n",
    "print(chi_square_vr2_fn_stat.sum())\n",
    "ct_vs_fed_normal.append(chi_square_vr2_fn_stat.sum())\n",
    "ct_vs_fed_normal_pvalue.append(chi_square_vr2_fn_pvalue)\n",
    "\n",
    "chi_square_vr3_fn_matrix, chi_square_vr3_fn_stat, chi_square_vr3_fn_pvalue = chi_square_test(attention_virus003,attention_fed_normal)\n",
    "print(\"\\nUtrojan vs Federated Normal\")\n",
    "print(chi_square_vr3_fn_stat.sum())\n",
    "ct_vs_fed_normal.append(chi_square_vr3_fn_stat.sum())\n",
    "ct_vs_fed_normal_pvalue.append(chi_square_vr3_fn_pvalue)\n",
    "\n",
    "print(\"\\n\")\n",
    "print(np.array(ct_vs_fed_normal))\n",
    "print(np.array(ct_vs_fed_normal_pvalue))"
   ]
  },
  {
   "cell_type": "markdown",
   "metadata": {},
   "source": [
    "## Chi Square - Cyber-Threats vs Federated Abnormal"
   ]
  },
  {
   "cell_type": "code",
   "execution_count": 8,
   "metadata": {},
   "outputs": [
    {
     "name": "stdout",
     "output_type": "stream",
     "text": [
      "\n",
      "Backdoor 001 vs Federated Abnormal\n",
      "42.659646109021494\n",
      "\n",
      "Backdoor 002 vs Federated Abnormal\n",
      "41.894154658367704\n",
      "\n",
      "Backdoor 003 vs Federated Abnormal\n",
      "42.37745048341919\n",
      "\n",
      "DDoS 001 vs Federated Abnormal\n",
      "43.35162074667121\n",
      "\n",
      "Ech0raix vs Federated Abnormal\n",
      "44.71751697706707\n",
      "\n",
      "GonnaCry vs Federated Abnormal\n",
      "44.717028854039526\n",
      "\n",
      "Malaria vs Federated Abnvormal\n",
      "44.421883191529446\n",
      "\n",
      "Nemox vs Federated Abnormal\n",
      "41.36951085667561\n",
      "\n",
      "Nf3ctor vs Federated Abnormal\n",
      "39.50649788415837\n",
      "\n",
      "NTP-DDoS vs Federated Abnormal\n",
      "42.738539584684446\n",
      "\n",
      "Spyware 001 vs Federated Abnormal\n",
      "44.89643303969548\n",
      "\n",
      "SYN-Flood vs Federated Abnormal\n",
      "42.01110602071989\n",
      "\n",
      "Utrojan vs Federated Abnormal\n",
      "42.65974699853251\n",
      "\n",
      "Utrojan vs Federated Abnormal\n",
      "41.616514084937194\n",
      "\n",
      "Utrojan vs Federated Abnormal\n",
      "42.13390856353101\n",
      "\n",
      "Utrojan vs Federated Abnormal\n",
      "41.55348128190493\n",
      "[1. 1. 1. 1. 1. 1. 1. 1. 1. 1. 1. 1. 1. 1. 1. 1.]\n"
     ]
    },
    {
     "name": "stderr",
     "output_type": "stream",
     "text": [
      "/home/ubuntu/.local/lib/python3.6/site-packages/ipykernel_launcher.py:2: RuntimeWarning: divide by zero encountered in true_divide\n",
      "  \n",
      "/home/ubuntu/.local/lib/python3.6/site-packages/ipykernel_launcher.py:2: RuntimeWarning: invalid value encountered in true_divide\n",
      "  \n"
     ]
    }
   ],
   "source": [
    "ct_vs_fed_abnormal = []\n",
    "ct_vs_fed_abnormal_pvalue = []\n",
    "\n",
    "chi_square_bd1_fabn_matrix, chi_square_bd1_fabn_stat, chi_square_bd1_fabn_pvalue = chi_square_test(attention_backdoor001,attention_fed_abnormal)\n",
    "print(\"\\nBackdoor 001 vs Federated Abnormal\")\n",
    "print(chi_square_bd1_fabn_stat.sum())\n",
    "ct_vs_fed_abnormal.append(chi_square_bd1_fabn_stat.sum())\n",
    "ct_vs_fed_abnormal_pvalue.append(chi_square_bd1_fabn_pvalue)\n",
    "\n",
    "chi_square_bd2_fabn_matrix, chi_square_bd2_fabn_stat, chi_square_bd2_fabn_pvalue = chi_square_test(attention_backdoor002,attention_fed_abnormal)\n",
    "print(\"\\nBackdoor 002 vs Federated Abnormal\")\n",
    "print(chi_square_bd2_fabn_stat.sum())\n",
    "ct_vs_fed_abnormal.append(chi_square_bd2_fabn_stat.sum())\n",
    "ct_vs_fed_abnormal_pvalue.append(chi_square_bd2_fabn_pvalue)\n",
    "\n",
    "chi_square_bd3_fabn_matrix, chi_square_bd3_fabn_stat, chi_square_bd3_fabn_pvalue = chi_square_test(attention_backdoor003,attention_fed_abnormal)\n",
    "print(\"\\nBackdoor 003 vs Federated Abnormal\")\n",
    "print(chi_square_bd3_fabn_stat.sum())\n",
    "ct_vs_fed_abnormal.append(chi_square_bd3_fabn_stat.sum())\n",
    "ct_vs_fed_abnormal_pvalue.append(chi_square_bd3_fabn_pvalue)\n",
    "\n",
    "chi_square_ddos1_fabn_matrix, chi_square_ddos1_fabn_stat, chi_square_ddos1_fabn_pvalue = chi_square_test(attention_ddos001,attention_fed_abnormal)\n",
    "print(\"\\nDDoS 001 vs Federated Abnormal\")\n",
    "print(chi_square_ddos1_fabn_stat.sum())\n",
    "ct_vs_fed_abnormal.append(chi_square_ddos1_fabn_stat.sum())\n",
    "ct_vs_fed_abnormal_pvalue.append(chi_square_ddos1_fabn_pvalue)\n",
    "\n",
    "chi_square_ech0raix_fabn_matrix, chi_square_ech0raix_fabn_stat, chi_square_ech0raix_fabn_pvalue = chi_square_test(attention_ech0raix,attention_fed_abnormal)\n",
    "print(\"\\nEch0raix vs Federated Abnormal\")\n",
    "print(chi_square_ech0raix_fabn_stat.sum())\n",
    "ct_vs_fed_abnormal.append(chi_square_ech0raix_fabn_stat.sum())\n",
    "ct_vs_fed_abnormal_pvalue.append(chi_square_ech0raix_fabn_pvalue)\n",
    "\n",
    "chi_square_gc_fabn_matrix, chi_square_gc_fabn_stat, chi_square_gc_fabn_pvalue = chi_square_test(attention_gonnacry,attention_fed_abnormal)\n",
    "print(\"\\nGonnaCry vs Federated Abnormal\")\n",
    "print(chi_square_gc_fabn_stat.sum())\n",
    "ct_vs_fed_abnormal.append(chi_square_gc_fabn_stat.sum())\n",
    "ct_vs_fed_abnormal_pvalue.append(chi_square_gc_fabn_pvalue)\n",
    "\n",
    "chi_square_malaria_fabn_matrix, chi_square_malaria_fabn_stat, chi_square_malaria_fabn_pvalue = chi_square_test(attention_malaria,attention_fed_abnormal)\n",
    "print(\"\\nMalaria vs Federated Abnvormal\")\n",
    "print(chi_square_malaria_fabn_stat.sum())\n",
    "ct_vs_fed_abnormal.append(chi_square_malaria_fabn_stat.sum())\n",
    "ct_vs_fed_abnormal_pvalue.append(chi_square_malaria_fabn_pvalue)\n",
    "\n",
    "chi_square_nemox_fabn_matrix, chi_square_nemox_fabn_stat, chi_square_nemox_fabn_pvalue = chi_square_test(attention_nemox,attention_fed_abnormal)\n",
    "print(\"\\nNemox vs Federated Abnormal\")\n",
    "print(chi_square_nemox_fabn_stat.sum())\n",
    "ct_vs_fed_abnormal.append(chi_square_nemox_fabn_stat.sum())\n",
    "ct_vs_fed_abnormal_pvalue.append(chi_square_nemox_fabn_pvalue)\n",
    "\n",
    "chi_square_nf3ctor_fabn_matrix, chi_square_nf3ctor_fabn_stat, chi_square_nf3ctor_fabn_pvalue = chi_square_test(attention_nf3ctor,attention_fed_abnormal)\n",
    "print(\"\\nNf3ctor vs Federated Abnormal\")\n",
    "print(chi_square_nf3ctor_fabn_stat.sum())\n",
    "ct_vs_fed_abnormal.append(chi_square_nf3ctor_fabn_stat.sum())\n",
    "ct_vs_fed_abnormal_pvalue.append(chi_square_nf3ctor_fabn_pvalue)\n",
    "\n",
    "chi_square_ntpddos_fabn_matrix, chi_square_ntpddos_fabn_stat, chi_square_ntpddos_fabn_pvalue = chi_square_test(attention_ntpddos,attention_fed_abnormal)\n",
    "print(\"\\nNTP-DDoS vs Federated Abnormal\")\n",
    "print(chi_square_ntpddos_fabn_stat.sum())\n",
    "ct_vs_fed_abnormal.append(chi_square_ntpddos_fabn_stat.sum())\n",
    "ct_vs_fed_abnormal_pvalue.append(chi_square_ntpddos_fabn_pvalue)\n",
    "\n",
    "chi_square_spy1_fabn_matrix, chi_square_spy1_fabn_stat, chi_square_spy1_fabn_pvalue = chi_square_test(attention_spyware001,attention_fed_abnormal)\n",
    "print(\"\\nSpyware 001 vs Federated Abnormal\")\n",
    "print(chi_square_spy1_fabn_stat.sum())\n",
    "ct_vs_fed_abnormal.append(chi_square_spy1_fabn_stat.sum())\n",
    "ct_vs_fed_abnormal_pvalue.append(chi_square_spy1_fabn_pvalue)\n",
    "\n",
    "chi_square_syfl_fabn_matrix, chi_square_syfl_fabn_stat, chi_square_syfl_fabn_pvalue = chi_square_test(attention_synflood,attention_fed_abnormal)\n",
    "print(\"\\nSYN-Flood vs Federated Abnormal\")\n",
    "print(chi_square_syfl_fabn_stat.sum())\n",
    "ct_vs_fed_abnormal.append(chi_square_syfl_fabn_stat.sum())\n",
    "ct_vs_fed_abnormal_pvalue.append(chi_square_syfl_fabn_pvalue)\n",
    "\n",
    "chi_square_utrojan_fabn_matrix, chi_square_utrojan_fabn_stat, chi_square_utrojan_fabn_pvalue = chi_square_test(attention_utrojan,attention_fed_abnormal)\n",
    "print(\"\\nUtrojan vs Federated Abnormal\")\n",
    "print(chi_square_utrojan_fabn_stat.sum())\n",
    "ct_vs_fed_abnormal.append(chi_square_utrojan_fabn_stat.sum())\n",
    "ct_vs_fed_abnormal_pvalue.append(chi_square_utrojan_fabn_pvalue)\n",
    "\n",
    "chi_square_vr1_fabn_matrix, chi_square_vr1_fabn_stat, chi_square_vr1_fabn_pvalue = chi_square_test(attention_virus001,attention_fed_abnormal)\n",
    "print(\"\\nUtrojan vs Federated Abnormal\")\n",
    "print(chi_square_vr1_fabn_stat.sum())\n",
    "ct_vs_fed_abnormal.append(chi_square_vr1_fabn_stat.sum())\n",
    "ct_vs_fed_abnormal_pvalue.append(chi_square_vr1_fabn_pvalue)\n",
    "\n",
    "chi_square_vr2_fabn_matrix, chi_square_vr2_fabn_stat, chi_square_vr2_fabn_pvalue = chi_square_test(attention_virus002,attention_fed_abnormal)\n",
    "print(\"\\nUtrojan vs Federated Abnormal\")\n",
    "print(chi_square_vr2_fabn_stat.sum())\n",
    "ct_vs_fed_abnormal.append(chi_square_vr2_fabn_stat.sum())\n",
    "ct_vs_fed_abnormal_pvalue.append(chi_square_vr2_fabn_pvalue)\n",
    "\n",
    "chi_square_vr3_fabn_matrix, chi_square_vr3_fabn_stat, chi_square_vr3_fabn_pvalue = chi_square_test(attention_virus003,attention_fed_abnormal)\n",
    "print(\"\\nUtrojan vs Federated Abnormal\")\n",
    "print(chi_square_vr3_fabn_stat.sum())\n",
    "ct_vs_fed_abnormal.append(chi_square_vr3_fabn_stat.sum())\n",
    "ct_vs_fed_abnormal_pvalue.append(chi_square_vr3_fabn_pvalue)\n",
    "\n",
    "# stats_chi2 = stats.chi2_contingency(observed=np.array(ct_vs_fed_abnormal))\n",
    "# print(stats_chi2)\n",
    "# print(\"\\n\")\n",
    "print(np.array(ct_vs_fed_abnormal_pvalue))"
   ]
  },
  {
   "cell_type": "code",
   "execution_count": 9,
   "metadata": {},
   "outputs": [
    {
     "name": "stderr",
     "output_type": "stream",
     "text": [
      "/home/ubuntu/.local/lib/python3.6/site-packages/seaborn/distributions.py:2557: FutureWarning: `distplot` is a deprecated function and will be removed in a future version. Please adapt your code to use either `displot` (a figure-level function with similar flexibility) or `kdeplot` (an axes-level function for kernel density plots).\n",
      "  warnings.warn(msg, FutureWarning)\n",
      "/home/ubuntu/.local/lib/python3.6/site-packages/seaborn/distributions.py:2056: FutureWarning: The `axis` variable is no longer used and will be removed. Instead, assign variables directly to `x` or `y`.\n",
      "  warnings.warn(msg, FutureWarning)\n"
     ]
    },
    {
     "data": {
      "image/png": "[encoded data removed]",
      "text/plain": [
       "<Figure size 432x288 with 1 Axes>"
      ]
     },
     "metadata": {
      "needs_background": "light"
     },
     "output_type": "display_data"
    },
    {
     "name": "stderr",
     "output_type": "stream",
     "text": [
      "/home/ubuntu/.local/lib/python3.6/site-packages/seaborn/distributions.py:2557: FutureWarning: `distplot` is a deprecated function and will be removed in a future version. Please adapt your code to use either `displot` (a figure-level function with similar flexibility) or `kdeplot` (an axes-level function for kernel density plots).\n",
      "  warnings.warn(msg, FutureWarning)\n",
      "/home/ubuntu/.local/lib/python3.6/site-packages/seaborn/distributions.py:2056: FutureWarning: The `axis` variable is no longer used and will be removed. Instead, assign variables directly to `x` or `y`.\n",
      "  warnings.warn(msg, FutureWarning)\n"
     ]
    },
    {
     "data": {
      "image/png": "[encoded data removed]",
      "text/plain": [
       "<Figure size 432x288 with 1 Axes>"
      ]
     },
     "metadata": {
      "needs_background": "light"
     },
     "output_type": "display_data"
    },
    {
     "name": "stderr",
     "output_type": "stream",
     "text": [
      "/home/ubuntu/.local/lib/python3.6/site-packages/seaborn/distributions.py:2557: FutureWarning: `distplot` is a deprecated function and will be removed in a future version. Please adapt your code to use either `displot` (a figure-level function with similar flexibility) or `kdeplot` (an axes-level function for kernel density plots).\n",
      "  warnings.warn(msg, FutureWarning)\n"
     ]
    },
    {
     "data": {
      "image/png": "[encoded data removed]",
      "text/plain": [
       "<Figure size 432x288 with 1 Axes>"
      ]
     },
     "metadata": {
      "needs_background": "light"
     },
     "output_type": "display_data"
    }
   ],
   "source": [
    "plt.title('Density Plot \\n Cyber-Threats vs Federated Abnormal')\n",
    "plt.xlabel('Chi2 Statistic')\n",
    "plt.ylabel('Density')\n",
    "\n",
    "array = np.sort(np.array(ct_vs_fed_abnormal))\n",
    "sns.distplot(ct_vs_fed_abnormal, hist = False, kde = True, rug = True,\n",
    "             color = 'red', \n",
    "             kde_kws={'linewidth': 2},\n",
    "             rug_kws={'color': 'orange','height':0.1})\n",
    "# plt.plot(array, stats.chi2.cdf(array, 448), linestyle='--')\n",
    "# plt.xlim(35, 700)\n",
    "plt.show()\n",
    "\n",
    "plt.title('Density Plot \\n Cyber-Threats vs Federated Normal')\n",
    "plt.xlabel('Chi2 Statistic')\n",
    "plt.ylabel('Density')\n",
    "\n",
    "sns.distplot(ct_vs_fed_normal, hist = False, kde = True, rug = True,\n",
    "             color = 'red', \n",
    "             kde_kws={'linewidth': 2},\n",
    "             rug_kws={'color': 'orange','height':0.1})\n",
    "\n",
    "plt.show()\n",
    "\n",
    "# Plot formatting\n",
    "plt.title('Chi-Square Statistic', fontsize=14)\n",
    "plt.xlabel('Chi-Square Statistic', fontsize=14)\n",
    "plt.ylabel('Density', fontsize=14)\n",
    "sns.distplot(np.random.chisquare(df=448, size=10000), hist=False, color = 'darkblue', kde_kws={'linewidth': 2})\n",
    "# plt.yscale('log',base=10)\n",
    "plt.savefig(\"figures/chi2_plot.png\")\n",
    "\n",
    "plt.show()"
   ]
  },
  {
   "cell_type": "code",
   "execution_count": 10,
   "metadata": {},
   "outputs": [
    {
     "data": {
      "image/png": "[encoded data removed]",
      "text/plain": [
       "<Figure size 792x360 with 2 Axes>"
      ]
     },
     "metadata": {
      "needs_background": "light"
     },
     "output_type": "display_data"
    },
    {
     "name": "stdout",
     "output_type": "stream",
     "text": [
      "[66454.1452717844, 66452.13150795363, 66449.28852226304, 66452.65812949876, 66455.4496630311, 66454.62461822123, 66455.63389726492, 66454.10057629194, 66454.26851343802, 66455.6187949224, 66455.71086174344, 66452.91789153779, 66454.49032407686, 66444.06365704938, 66450.94604168352, 66446.9464225866]\n",
      "[0.0, 0.0, 0.0, 0.0, 0.0, 0.0, 0.0, 0.0, 0.0, 0.0, 0.0, 0.0, 0.0, 0.0, 0.0, 0.0]\n",
      "\n",
      "\n",
      "[42.659646109021494, 41.894154658367704, 42.37745048341919, 43.35162074667121, 44.71751697706707, 44.717028854039526, 44.421883191529446, 41.36951085667561, 39.50649788415837, 42.738539584684446, 44.89643303969548, 42.01110602071989, 42.65974699853251, 41.616514084937194, 42.13390856353101, 41.55348128190493]\n",
      "[1.0, 1.0, 1.0, 1.0, 1.0, 1.0, 1.0, 1.0, 1.0, 1.0, 1.0, 1.0, 1.0, 1.0, 1.0, 1.0]\n"
     ]
    }
   ],
   "source": [
    "fig, axs = plt.subplots(1,2, figsize=(11, 5))\n",
    "\n",
    "data =[ct_vs_fed_normal, ct_vs_fed_abnormal]\n",
    "\n",
    "#axs[0].set_xlabel(\"Cyber-Threats vs Federated Normal\", fontsize=14)\n",
    "#axs[1].set_ylabel(\"Test Statistic\", fontsize=14)\n",
    "axs[1].set_title(\"Chi-Square Statistic\\nCyber-Threats vs Federated Normal\", fontsize=14)\n",
    "axs[1].boxplot(ct_vs_fed_normal)\n",
    "axs[1].set_xticklabels('B', fontsize=14)\n",
    "\n",
    "#axs[1].set_xlabel(\"Cyber-Threats vs Federated Abnormal\", fontsize=14)\n",
    "axs[0].set_ylabel(\"Test Statistic\", fontsize=14)\n",
    "axs[0].set_title(\"Chi-Square Statistic\\nCyber-Threats vs Federated Cyber-Threats\", fontsize=14)\n",
    "axs[0].boxplot(ct_vs_fed_abnormal)\n",
    "axs[0].set_xticklabels('A', fontsize=14)\n",
    "plt.savefig(\"figures/boxplot.png\")\n",
    "plt.show()\n",
    "\n",
    "print(ct_vs_fed_normal)\n",
    "print(ct_vs_fed_normal_pvalue)\n",
    "print(\"\\n\")\n",
    "print(ct_vs_fed_abnormal)\n",
    "print(ct_vs_fed_abnormal_pvalue)\n"
   ]
  },
  {
   "cell_type": "code",
   "execution_count": 10,
   "metadata": {},
   "outputs": [
    {
     "data": {
      "text/plain": [
       "66452.68716833419"
      ]
     },
     "execution_count": 10,
     "metadata": {},
     "output_type": "execute_result"
    }
   ],
   "source": [
    "np.average(ct_vs_fed_normal)\n",
    "#np.average(ct_vs_fed_abnormal)"
   ]
  },
  {
   "cell_type": "code",
   "execution_count": 11,
   "metadata": {},
   "outputs": [
    {
     "name": "stdout",
     "output_type": "stream",
     "text": [
      "[2.25663431 1.86777664 0.63439619 2.29445569 1.97365918 1.14739791\n",
      " 5.59770795 3.00142026 2.86209845 2.05788729 5.76342617 2.70572008\n",
      " 7.09597569 0.77144369 7.81100336 7.10158205 0.42928081 2.26522004\n",
      " 0.96356172 5.89285111 2.0358935  0.1057837  5.48363298 2.7572412\n",
      " 7.32191156 1.56314437 0.67859273 4.18226739 2.09698924 1.46014422\n",
      " 1.37467433 0.40953701 1.90683929 1.34645457 3.75353546 1.92794203\n",
      " 0.99185864 7.07036872 2.35616606 0.58584864 1.39117065 2.25017217\n",
      " 1.89595321 1.20361269 1.95857879 0.06774856 1.95203955 1.888021\n",
      " 0.52846804 2.07816577]\n"
     ]
    },
    {
     "data": {
      "image/png": "[encoded data removed]",
      "text/plain": [
       "<Figure size 432x288 with 1 Axes>"
      ]
     },
     "metadata": {
      "needs_background": "light"
     },
     "output_type": "display_data"
    }
   ],
   "source": [
    "norm = stats.norm(0, 1)\n",
    "\n",
    "x1 = norm.rvs(size=50)**2\n",
    "x2 = norm.rvs(size=50)**2\n",
    "x3 = norm.rvs(size=50)**2\n",
    "print(x1+x2+x3)\n",
    "f = x1 + x2 + x3\n",
    "\n",
    "plt.hist(f, 10, density=True)\n",
    "\n",
    "# Plot the theoretical density of f\n",
    "x = np.arange(0, 30, .05)\n",
    "plt.plot(x, chi2.pdf(x, df=448), color='r', lw=2)\n",
    "plt.show()"
   ]
  },
  {
   "cell_type": "markdown",
   "metadata": {},
   "source": [
    "## Attention K-S Test"
   ]
  },
  {
   "cell_type": "code",
   "execution_count": 12,
   "metadata": {},
   "outputs": [],
   "source": [
    "with open('Attention-Based_Weights/all_Linux_Client1_Normal_attention.npy', 'rb') as f:\n",
    "    attention_client1 = np.load(f)\n",
    "with open('Attention-Based_Weights/all_Linux_Client2_Normal_attention.npy', 'rb') as f:\n",
    "    attention_client2 = np.load(f)\n",
    "with open('Attention-Based_Weights/all_Linux_Normal_attention.npy', 'rb') as f:\n",
    "    attention_fed_normal = np.load(f)\n",
    "with open('Attention-Based_Weights/all_Linux_Abnormal_attention.npy', 'rb') as f:\n",
    "    attention_fed_abnormal = np.load(f)"
   ]
  },
  {
   "cell_type": "code",
   "execution_count": 13,
   "metadata": {},
   "outputs": [],
   "source": [
    "att_client1_bar = attention_client1.sum(axis=0)\n",
    "att_client2_bar = attention_client2.sum(axis=0)\n",
    "att_fed_normal_bar = attention_fed_normal.sum(axis=0)\n",
    "att_fed_abnormal_bar = attention_fed_abnormal.sum(axis=0)"
   ]
  },
  {
   "cell_type": "code",
   "execution_count": 14,
   "metadata": {},
   "outputs": [],
   "source": [
    "sorted_att_client1_bar = np.sort(att_client1_bar, axis=0)\n",
    "sorted_att_client2_bar = np.sort(att_client2_bar, axis=0)\n",
    "sorted_att_fed_normal_bar = np.sort(att_fed_normal_bar, axis=0)\n",
    "sorted_att_fed_abnormal_bar = np.sort(att_fed_abnormal_bar, axis=0)"
   ]
  },
  {
   "cell_type": "code",
   "execution_count": 15,
   "metadata": {},
   "outputs": [],
   "source": [
    "scaled_att_client1_bar = (sorted_att_client1_bar - sorted_att_client1_bar.mean())/sorted_att_client1_bar.std()\n",
    "scaled_att_client2_bar = (sorted_att_client2_bar - sorted_att_client2_bar.mean())/sorted_att_client2_bar.std()\n",
    "scaled_att_fed_normal_bar = (sorted_att_fed_normal_bar - sorted_att_fed_normal_bar.mean())/sorted_att_fed_normal_bar.std()\n",
    "scaled_att_fed_abnormal_bar = (sorted_att_fed_abnormal_bar - sorted_att_fed_abnormal_bar.mean())/sorted_att_fed_abnormal_bar.std()"
   ]
  },
  {
   "cell_type": "code",
   "execution_count": 16,
   "metadata": {},
   "outputs": [
    {
     "name": "stdout",
     "output_type": "stream",
     "text": [
      "KS Test for Client 1 and Client 2\n",
      "KstestResult(statistic=0.8819599109131403, pvalue=5.8052329335077375e-183)\n",
      "KS Test for Client 1 and Federated\n",
      "KstestResult(statistic=0.8685968819599109, pvalue=6.399328678845312e-176)\n",
      "KS Test for Client 2 and Federated\n",
      "KstestResult(statistic=0.7461024498886414, pvalue=3.6621108291849417e-122)\n",
      "KS Test for Client 1 and Cyber-Threat\n",
      "KstestResult(statistic=0.844097995545657, pvalue=1.0058777356837117e-163)\n",
      "KS Test for Client 2 and Cyber-Threat\n",
      "KstestResult(statistic=0.8418708240534521, pvalue=1.1730517818959342e-162)\n",
      "KS Test for Federated Normal and Federated Cyber-Threat\n",
      "KstestResult(statistic=0.844097995545657, pvalue=1.0058777356837117e-163)\n"
     ]
    }
   ],
   "source": [
    "print(\"KS Test for Client 1 and Client 2\")\n",
    "print(ks_2samp(scaled_att_client1_bar, scaled_att_client2_bar))\n",
    "print(\"KS Test for Client 1 and Federated\")\n",
    "print(ks_2samp(scaled_att_client1_bar, scaled_att_fed_normal_bar))\n",
    "print(\"KS Test for Client 2 and Federated\")\n",
    "print(ks_2samp(scaled_att_client2_bar, scaled_att_fed_normal_bar))\n",
    "print(\"KS Test for Client 1 and Cyber-Threat\")\n",
    "print(ks_2samp(scaled_att_client1_bar, scaled_att_fed_abnormal_bar))\n",
    "print(\"KS Test for Client 2 and Cyber-Threat\")\n",
    "print(ks_2samp(scaled_att_client2_bar, scaled_att_fed_abnormal_bar))\n",
    "print(\"KS Test for Federated Normal and Federated Cyber-Threat\")\n",
    "print(ks_2samp(scaled_att_fed_normal_bar, scaled_att_fed_abnormal_bar))"
   ]
  },
  {
   "cell_type": "code",
   "execution_count": 17,
   "metadata": {},
   "outputs": [
    {
     "name": "stdout",
     "output_type": "stream",
     "text": [
      "KS Test for Client 1 and Client 2\n",
      "KstestResult(statistic=0.12694877505567928, pvalue=0.0014238683352666636)\n",
      "KS Test for Client 1 and Federated\n",
      "KstestResult(statistic=0.27839643652561247, pvalue=1.0086465767199179e-15)\n",
      "KS Test for Client 2 and Federated\n",
      "KstestResult(statistic=0.17817371937639198, pvalue=1.2146876998660414e-06)\n",
      "KS Test for Federated and Cyber-Threat\n",
      "KstestResult(statistic=0.4521158129175947, pvalue=1.0195042087463468e-41)\n",
      "KS Test for Federated and Cyber-Threat\n",
      "KstestResult(statistic=0.576837416481069, pvalue=2.085864599933297e-69)\n",
      "KS Test for Federated Normal and Federated Cyber-Threat\n",
      "KstestResult(statistic=0.7305122494432071, pvalue=2.0395834355106364e-116)\n"
     ]
    }
   ],
   "source": [
    "print(\"KS Test for Client 1 and Client 2\")\n",
    "print(ks_2samp(att_client1_bar, att_client2_bar))\n",
    "print(\"KS Test for Client 1 and Federated\")\n",
    "print(ks_2samp(att_client1_bar, att_fed_normal_bar))\n",
    "print(\"KS Test for Client 2 and Federated\")\n",
    "print(ks_2samp(att_client2_bar, att_fed_normal_bar))\n",
    "print(\"KS Test for Federated and Cyber-Threat\")\n",
    "print(ks_2samp(att_client1_bar, att_fed_abnormal_bar))\n",
    "print(\"KS Test for Federated and Cyber-Threat\")\n",
    "print(ks_2samp(att_client2_bar, att_fed_abnormal_bar))\n",
    "print(\"KS Test for Federated Normal and Federated Cyber-Threat\")\n",
    "print(ks_2samp(att_fed_normal_bar, att_fed_abnormal_bar))"
   ]
  }
 ],
 "metadata": {
  "kernelspec": {
   "display_name": "Python 3",
   "language": "python",
   "name": "python3"
  },
  "language_info": {
   "codemirror_mode": {
    "name": "ipython",
    "version": 3
   },
   "file_extension": ".py",
   "mimetype": "text/x-python",
   "name": "python",
   "nbconvert_exporter": "python",
   "pygments_lexer": "ipython3",
   "version": "3.6.9"
  }
 },
 "nbformat": 4,
 "nbformat_minor": 4
}
